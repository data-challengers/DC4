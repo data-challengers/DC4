{
 "cells": [
  {
   "cell_type": "code",
   "execution_count": 1,
   "id": "educational-luther",
   "metadata": {},
   "outputs": [],
   "source": [
    "# adapted from Rocio Jaime\n",
    "import datetime\n",
    "import networkx as nx\n",
    "import pandas as pd\n",
    "from pyvis import network as net"
   ]
  },
  {
   "cell_type": "code",
   "execution_count": 2,
   "id": "sonic-poison",
   "metadata": {},
   "outputs": [],
   "source": [
    "IDS_logs = pd.read_csv('https://raw.githubusercontent.com/data-challengers/DC4/main/DC4-data/IDS-logs.csv')\n",
    "IDS_logs['time'] = pd.to_datetime(IDS_logs['time'])\n",
    "IDS_logs['time'] = IDS_logs['time'].dt.floor(\"H\")\n",
    "\n",
    "\n",
    "IDS6667 = IDS_logs[IDS_logs[' sourcePort'] == 6667] #[\" packet info cont'd\"].iloc[1]\n",
    "\n",
    "IDS_logs_initial = IDS_logs[IDS_logs['time'] == '2012-04-05 17:00:00']\n",
    "IDS_logs_later = IDS_logs[IDS_logs['time'] == '2012-04-05 19:00:00']\n",
    "\n",
    "IDS_logs6667_initial = IDS6667[IDS6667['time'] == '2012-04-05 17:00:00']\n",
    "IDS_logs6667_later = IDS6667[IDS6667['time'] == '2012-04-05 19:00:00']"
   ]
  },
  {
   "cell_type": "code",
   "execution_count": 3,
   "id": "lesbian-overview",
   "metadata": {},
   "outputs": [],
   "source": [
    "IDS_6667_10pm = IDS6667[IDS6667['time'] == '2012-04-06 20:00:00']\n",
    "IDS_6667_3am = IDS6667[IDS6667['time'] == '2012-04-06 03:00:00']\n",
    "IDS_logs5pm = IDS_logs[IDS_logs['time'] == '2012-04-05 17:00:00']\n",
    "IDS_logs3am= IDS_logs[IDS_logs['time'] == '2012-04-06 03:00:00']"
   ]
  },
  {
   "cell_type": "code",
   "execution_count": 4,
   "id": "numerous-profit",
   "metadata": {},
   "outputs": [
    {
     "data": {
      "text/html": [
       "\n",
       "        <iframe\n",
       "            width=\"100%\"\n",
       "            height=\"400px\"\n",
       "            src=\"BoM_network5pm.html\"\n",
       "            frameborder=\"0\"\n",
       "            allowfullscreen\n",
       "        ></iframe>\n",
       "        "
      ],
      "text/plain": [
       "<IPython.lib.display.IFrame at 0x28477610eb0>"
      ]
     },
     "execution_count": 4,
     "metadata": {},
     "output_type": "execute_result"
    }
   ],
   "source": [
    "got_net = net.Network(height='400px', width='100%', bgcolor='#222222', font_color='white', notebook = True)\n",
    "\n",
    "# set the physics layout of the network\n",
    "got_net.barnes_hut()\n",
    "got_data = IDS_logs5pm\n",
    "\n",
    "sources = got_data[' sourcePort']\n",
    "targets = got_data[' destPort']\n",
    "# weights = got_data['Weight']\n",
    "\n",
    "edge_data = zip(sources, targets)\n",
    "\n",
    "for e in edge_data:\n",
    "    src = e[0]\n",
    "    dst = e[1]\n",
    "    #w = e[2]\n",
    "\n",
    "    got_net.add_node(src, src, title=src)\n",
    "    got_net.add_node(dst, dst, title=dst)\n",
    "    got_net.add_edge(src, dst)\n",
    "\n",
    "neighbor_map = got_net.get_adj_list()\n",
    "\n",
    "# add neighbor data to node hover data\n",
    "for node in got_net.nodes:\n",
    "    node['title'] = str(node['title'])\n",
    "    # node['id'] = str(node['id'])\n",
    "    node['title'] = ' Port:' + str(node['id'])\n",
    "    node['value'] = len(neighbor_map[node['id']])\n",
    "got_net.show_buttons(filter_=['physics'])\n",
    "got_net.show('BoM_network5pm.html')"
   ]
  },
  {
   "cell_type": "code",
   "execution_count": 5,
   "id": "usual-learning",
   "metadata": {},
   "outputs": [
    {
     "data": {
      "text/html": [
       "\n",
       "        <iframe\n",
       "            width=\"100%\"\n",
       "            height=\"750px\"\n",
       "            src=\"BoM_network3am.html\"\n",
       "            frameborder=\"0\"\n",
       "            allowfullscreen\n",
       "        ></iframe>\n",
       "        "
      ],
      "text/plain": [
       "<IPython.lib.display.IFrame at 0x28477973c70>"
      ]
     },
     "execution_count": 5,
     "metadata": {},
     "output_type": "execute_result"
    }
   ],
   "source": [
    "got_net = net.Network(height='750px', width='100%', bgcolor='#222222', font_color='white', notebook = True)\n",
    "\n",
    "# set the physics layout of the network\n",
    "got_net.barnes_hut()\n",
    "got_data = IDS_logs3am\n",
    "\n",
    "sources = got_data[' sourcePort']\n",
    "targets = got_data[' destPort']\n",
    "# weights = got_data['Weight']\n",
    "\n",
    "edge_data = zip(sources, targets)\n",
    "\n",
    "for e in edge_data:\n",
    "    src = e[0]\n",
    "    dst = e[1]\n",
    "    #w = e[2]\n",
    "\n",
    "    got_net.add_node(src, src, title=src)\n",
    "    got_net.add_node(dst, dst, title=dst)\n",
    "    got_net.add_edge(src, dst)\n",
    "\n",
    "neighbor_map = got_net.get_adj_list()\n",
    "\n",
    "# add neighbor data to node hover data\n",
    "for node in got_net.nodes:\n",
    "    node['title'] = str(node['title'])\n",
    "    # node['id'] = str(node['id'])\n",
    "    node['title'] = ' Port:' + str(node['id'])\n",
    "    node['value'] = len(neighbor_map[node['id']])\n",
    "\n",
    "got_net.show_buttons(filter_=['physics'])\n",
    "got_net.show('BoM_network3am.html')"
   ]
  }
 ],
 "metadata": {
  "kernelspec": {
   "display_name": "Python 3",
   "language": "python",
   "name": "python3"
  },
  "language_info": {
   "codemirror_mode": {
    "name": "ipython",
    "version": 3
   },
   "file_extension": ".py",
   "mimetype": "text/x-python",
   "name": "python",
   "nbconvert_exporter": "python",
   "pygments_lexer": "ipython3",
   "version": "3.8.3"
  }
 },
 "nbformat": 4,
 "nbformat_minor": 5
}
