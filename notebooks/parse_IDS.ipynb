{
 "cells": [
  {
   "cell_type": "code",
   "execution_count": 23,
   "metadata": {},
   "outputs": [],
   "source": [
    "import pandas as pd\n",
    "import numpy as np\n",
    "import matplotlib.pyplot as plt\n",
    "from datetime import timedelta\n",
    "import plotly.graph_objects as go"
   ]
  },
  {
   "cell_type": "code",
   "execution_count": 24,
   "metadata": {},
   "outputs": [],
   "source": [
    "def read_ids_logs():\n",
    "    url = 'https://raw.githubusercontent.com/data-challengers/DC4/main/DC4-data/IDS-logs.csv'\n",
    "    df = pd.read_csv(url, parse_dates=[0], infer_datetime_format=True)\n",
    "    df.columns = df.columns.str.replace(' ', '')\n",
    "    return df\n",
    "\n",
    "df = read_ids_logs()\n",
    "# print(df)"
   ]
  },
  {
   "cell_type": "code",
   "execution_count": 25,
   "metadata": {},
   "outputs": [
    {
     "name": "stdout",
     "output_type": "stream",
     "text": [
      "Unique IP sources:  ['172' '10']\n"
     ]
    }
   ],
   "source": [
    "def get_internal_sources(df):\n",
    "    # try to isolate first IP num for visited sites\n",
    "    df['pos'] = df['sourceIP'].str.find('.')\n",
    "    # use position to slice sourceIP\n",
    "    df['ip_source'] = df.apply(lambda x: x['sourceIP'][0:x['pos']],axis=1)\n",
    "    print('Unique IP sources: ', df['ip_source'].unique())\n",
    "\n",
    "    # Create boolean internal? var\n",
    "    df['internal_source'] = np.where(df['ip_source']=='172', True, False)\n",
    "    df.drop(['pos', 'ip_source'], axis=1, inplace=True)\n",
    "\n",
    "get_internal_sources(df)\n",
    "# print(df)"
   ]
  },
  {
   "cell_type": "code",
   "execution_count": 26,
   "metadata": {},
   "outputs": [
    {
     "name": "stdout",
     "output_type": "stream",
     "text": [
      "Unique classifications:  [' Generic Protocol Command Decode'\n",
      " ' Potential Corporate Privacy Violation' ' Misc activity'\n",
      " ' Attempted Information Leak' ' Potentially Bad Traffic']\n",
      "Empty DataFrame\n",
      "Columns: [time, sourceIP, sourcePort, destIP, destPort, classification, priority, label, packetinfo, packetinfocont'd, xref, internal_source]\n",
      "Index: []\n",
      "\n",
      "Full df: internal sources percentages: \n",
      " True     66.044681\n",
      "False    33.955319\n",
      "Name: internal_source, dtype: float64\n",
      "\n",
      "Leaks df: internal sources percentages: \n",
      " True    100.0\n",
      "Name: internal_source, dtype: float64\n",
      "\n",
      "privacy_violations df: internal sources percentages: \n",
      " True    100.0\n",
      "Name: internal_source, dtype: float64\n",
      "\n",
      "Potentially bad df: internal sources percentages: \n",
      " True    100.0\n",
      "Name: internal_source, dtype: float64\n",
      "\n",
      "misc df: internal sources percentages: \n",
      " False    99.965414\n",
      "True      0.034586\n",
      "Name: internal_source, dtype: float64\n",
      "\n",
      "general_protocol df: internal sources percentages: \n",
      " True    100.0\n",
      "Name: internal_source, dtype: float64\n"
     ]
    }
   ],
   "source": [
    "classifications = df['classification'].unique()\n",
    "print('Unique classifications: ', classifications)\n",
    "\n",
    "# create classification specific dfs\n",
    "general_protocol = df.loc[df['classification'] == ' Generic Protocol Command Decode']\n",
    "privacy_violations = df.loc[df['classification'] == ' Potential Corporate Privacy Violation']\n",
    "leaks = df.loc[df['classification'] == ' Attempted Information Leak']\n",
    "poten_bad = df.loc[df['classification'] == ' Potentially Bad Traffic']\n",
    "misc = df.loc[df['classification'] == ' Misc activity']\n",
    "# Check if there are any NA classifications\n",
    "na_class = df[df['classification'].isnull()]\n",
    "print(na_class)\n",
    "\n",
    "# get percentage of entries that are from internal sources\n",
    "percent = df['internal_source'].value_counts(normalize=True) * 100\n",
    "print('\\nFull df: internal sources percentages: \\n',percent)\n",
    "\n",
    "# percent of leaks\n",
    "percent = leaks['internal_source'].value_counts(normalize=True) * 100\n",
    "print('\\nLeaks df: internal sources percentages: \\n',percent)\n",
    "\n",
    "# percent of privacy_violations\n",
    "percent = privacy_violations['internal_source'].value_counts(normalize=True) * 100\n",
    "print('\\nprivacy_violations df: internal sources percentages: \\n',percent)\n",
    "\n",
    "# percent of poten_bad\n",
    "percent = poten_bad['internal_source'].value_counts(normalize=True) * 100\n",
    "print('\\nPotentially bad df: internal sources percentages: \\n',percent)\n",
    "\n",
    "# percent of misc\n",
    "percent = misc['internal_source'].value_counts(normalize=True) * 100\n",
    "print('\\nmisc df: internal sources percentages: \\n',percent)\n",
    "\n",
    "# percent of poten_bad\n",
    "percent = general_protocol['internal_source'].value_counts(normalize=True) * 100\n",
    "print('\\ngeneral_protocol df: internal sources percentages: \\n',percent)\n"
   ]
  },
  {
   "cell_type": "code",
   "execution_count": 27,
   "metadata": {},
   "outputs": [],
   "source": [
    "# I'm gonna work on a percentage stacked bar chart in plotly which ... will probably take me a while! "
   ]
  },
  {
   "cell_type": "code",
   "execution_count": 28,
   "metadata": {},
   "outputs": [
    {
     "name": "stdout",
     "output_type": "stream",
     "text": [
      "                 classification                hour  count\n",
      "0    Attempted Information Leak 2012-04-05 21:00:00     16\n",
      "1    Attempted Information Leak 2012-04-05 23:00:00     20\n",
      "2    Attempted Information Leak 2012-04-06 00:00:00    213\n",
      "3    Attempted Information Leak 2012-04-06 01:00:00     82\n",
      "4    Attempted Information Leak 2012-04-06 03:00:00     35\n",
      "..                          ...                 ...    ...\n",
      "85      Potentially Bad Traffic 2012-04-05 21:00:00     16\n",
      "86      Potentially Bad Traffic 2012-04-05 23:00:00     16\n",
      "87      Potentially Bad Traffic 2012-04-06 00:00:00     68\n",
      "88      Potentially Bad Traffic 2012-04-06 01:00:00     52\n",
      "89      Potentially Bad Traffic 2012-04-06 03:00:00     20\n",
      "\n",
      "[90 rows x 3 columns]\n"
     ]
    }
   ],
   "source": [
    "# Round times to the hour (to be grouped for plotting)\n",
    "df['hour'] = df['time'].dt.floor('h')\n",
    "# Create count aggregate of classification appearances over time\n",
    "grouped_class_df = df.groupby(['classification', 'hour']).size().reset_index(name='count')\n",
    "grouped_class_df.dtypes\n",
    "print(grouped_class_df)"
   ]
  },
  {
   "cell_type": "code",
   "execution_count": 29,
   "metadata": {},
   "outputs": [],
   "source": [
    "def fill_df_nas(df, time_col, group_col, group_arr):\n",
    "    \"\"\"\n",
    "    Expands dataframe to include all x-axis values for every group, and\n",
    "    fills dataframes with NAs when there are no observations for the specified group.\n",
    "    \n",
    "    Modified function that includes NA values for all time points within range from min-max times observed.\n",
    "    \n",
    "    Useful for Plotly graphs in mode='lines+markers'\n",
    "    :param: df: dataframe of interest\n",
    "    :param: time_col: string name of column that contains time variable (or generally, the x variable)\n",
    "    :param: group_col: string name of column that contains the groups to plot over different traces\n",
    "    :param: group_arr: list or numpy array of all unique observations in df['group_col']\n",
    "    \"\"\"\n",
    "    # Sort by time for graphing\n",
    "    df = df.sort_values(by=[time_col])\n",
    "    # Get series time range between min and max time points\n",
    "    time_range = pd.date_range(df[time_col].min(), df[time_col].max(), freq='H')\n",
    "    \n",
    "    df_series = pd.Series(np.tile(group_arr, len(time_range)))\n",
    "    df_idx_series = time_range \\\n",
    "        .repeat(len(group_arr))\n",
    "    new_df = pd.DataFrame({time_col: df_idx_series,\n",
    "                          group_col: df_series})\n",
    "    df_with_nas = pd.merge(new_df, df, on=[time_col, group_col], how='left')\n",
    "    return df_with_nas\n"
   ]
  },
  {
   "cell_type": "code",
   "execution_count": 30,
   "metadata": {},
   "outputs": [
    {
     "data": {
      "application/vnd.plotly.v1+json": {
       "config": {
        "plotlyServerURL": "https://plot.ly"
       },
       "data": [
        {
         "connectgaps": false,
         "mode": "lines+markers",
         "name": " Generic Protocol Command Decode",
         "type": "scatter",
         "x": [
          "2012-04-05T17:00:00",
          "2012-04-05T18:00:00",
          "2012-04-05T19:00:00",
          "2012-04-05T20:00:00",
          "2012-04-05T21:00:00",
          "2012-04-05T22:00:00",
          "2012-04-05T23:00:00",
          "2012-04-06T00:00:00",
          "2012-04-06T01:00:00",
          "2012-04-06T02:00:00",
          "2012-04-06T03:00:00",
          "2012-04-06T04:00:00",
          "2012-04-06T05:00:00",
          "2012-04-06T06:00:00",
          "2012-04-06T07:00:00",
          "2012-04-06T08:00:00",
          "2012-04-06T09:00:00",
          "2012-04-06T10:00:00",
          "2012-04-06T11:00:00",
          "2012-04-06T12:00:00",
          "2012-04-06T13:00:00",
          "2012-04-06T14:00:00",
          "2012-04-06T15:00:00",
          "2012-04-06T16:00:00",
          "2012-04-06T17:00:00",
          "2012-04-06T18:00:00",
          "2012-04-06T19:00:00",
          "2012-04-06T20:00:00",
          "2012-04-06T21:00:00",
          "2012-04-06T22:00:00",
          "2012-04-06T23:00:00",
          "2012-04-07T00:00:00",
          "2012-04-07T01:00:00",
          "2012-04-07T02:00:00",
          "2012-04-07T03:00:00",
          "2012-04-07T04:00:00",
          "2012-04-07T05:00:00",
          "2012-04-07T06:00:00",
          "2012-04-07T07:00:00",
          "2012-04-07T08:00:00"
         ],
         "y": [
          91,
          739,
          904,
          760,
          896,
          802,
          845,
          843,
          805,
          871,
          799,
          867,
          822,
          842,
          834,
          813,
          846,
          828,
          849,
          809,
          858,
          826,
          841,
          842,
          1026,
          762,
          896,
          832,
          812,
          886,
          776,
          892,
          778,
          870,
          826,
          829,
          856,
          807,
          865,
          808
         ]
        },
        {
         "connectgaps": false,
         "mode": "lines+markers",
         "name": " Potential Corporate Privacy Violation",
         "type": "scatter",
         "x": [
          "2012-04-05T17:00:00",
          "2012-04-05T18:00:00",
          "2012-04-05T19:00:00",
          "2012-04-05T20:00:00",
          "2012-04-05T21:00:00",
          "2012-04-05T22:00:00",
          "2012-04-05T23:00:00",
          "2012-04-06T00:00:00",
          "2012-04-06T01:00:00",
          "2012-04-06T02:00:00",
          "2012-04-06T03:00:00",
          "2012-04-06T04:00:00",
          "2012-04-06T05:00:00",
          "2012-04-06T06:00:00",
          "2012-04-06T07:00:00",
          "2012-04-06T08:00:00",
          "2012-04-06T09:00:00",
          "2012-04-06T10:00:00",
          "2012-04-06T11:00:00",
          "2012-04-06T12:00:00",
          "2012-04-06T13:00:00",
          "2012-04-06T14:00:00",
          "2012-04-06T15:00:00",
          "2012-04-06T16:00:00",
          "2012-04-06T17:00:00",
          "2012-04-06T18:00:00",
          "2012-04-06T19:00:00",
          "2012-04-06T20:00:00",
          "2012-04-06T21:00:00",
          "2012-04-06T22:00:00",
          "2012-04-06T23:00:00",
          "2012-04-07T00:00:00",
          "2012-04-07T01:00:00",
          "2012-04-07T02:00:00",
          "2012-04-07T03:00:00",
          "2012-04-07T04:00:00",
          "2012-04-07T05:00:00",
          "2012-04-07T06:00:00",
          "2012-04-07T07:00:00",
          "2012-04-07T08:00:00"
         ],
         "y": [
          null,
          60,
          null,
          null,
          null,
          null,
          null,
          null,
          null,
          null,
          null,
          null,
          null,
          null,
          null,
          null,
          null,
          null,
          null,
          null,
          null,
          null,
          null,
          null,
          358,
          16,
          null,
          null,
          null,
          null,
          null,
          null,
          null,
          null,
          null,
          null,
          null,
          null,
          null,
          null
         ]
        },
        {
         "connectgaps": false,
         "mode": "lines+markers",
         "name": " Misc activity",
         "type": "scatter",
         "x": [
          "2012-04-05T17:00:00",
          "2012-04-05T18:00:00",
          "2012-04-05T19:00:00",
          "2012-04-05T20:00:00",
          "2012-04-05T21:00:00",
          "2012-04-05T22:00:00",
          "2012-04-05T23:00:00",
          "2012-04-06T00:00:00",
          "2012-04-06T01:00:00",
          "2012-04-06T02:00:00",
          "2012-04-06T03:00:00",
          "2012-04-06T04:00:00",
          "2012-04-06T05:00:00",
          "2012-04-06T06:00:00",
          "2012-04-06T07:00:00",
          "2012-04-06T08:00:00",
          "2012-04-06T09:00:00",
          "2012-04-06T10:00:00",
          "2012-04-06T11:00:00",
          "2012-04-06T12:00:00",
          "2012-04-06T13:00:00",
          "2012-04-06T14:00:00",
          "2012-04-06T15:00:00",
          "2012-04-06T16:00:00",
          "2012-04-06T17:00:00",
          "2012-04-06T18:00:00",
          "2012-04-06T19:00:00",
          "2012-04-06T20:00:00",
          "2012-04-06T21:00:00",
          "2012-04-06T22:00:00",
          "2012-04-06T23:00:00",
          "2012-04-07T00:00:00",
          "2012-04-07T01:00:00",
          "2012-04-07T02:00:00",
          "2012-04-07T03:00:00",
          "2012-04-07T04:00:00",
          "2012-04-07T05:00:00",
          "2012-04-07T06:00:00",
          "2012-04-07T07:00:00",
          "2012-04-07T08:00:00"
         ],
         "y": [
          null,
          null,
          null,
          151,
          224,
          236,
          202,
          473,
          712,
          720,
          727,
          696,
          676,
          721,
          690,
          693,
          730,
          684,
          723,
          712,
          708,
          716,
          705,
          389,
          251,
          290,
          309,
          337,
          328,
          327,
          320,
          324,
          322,
          328,
          328,
          310,
          318,
          316,
          330,
          322
         ]
        },
        {
         "connectgaps": false,
         "mode": "lines+markers",
         "name": " Attempted Information Leak",
         "type": "scatter",
         "x": [
          "2012-04-05T17:00:00",
          "2012-04-05T18:00:00",
          "2012-04-05T19:00:00",
          "2012-04-05T20:00:00",
          "2012-04-05T21:00:00",
          "2012-04-05T22:00:00",
          "2012-04-05T23:00:00",
          "2012-04-06T00:00:00",
          "2012-04-06T01:00:00",
          "2012-04-06T02:00:00",
          "2012-04-06T03:00:00",
          "2012-04-06T04:00:00",
          "2012-04-06T05:00:00",
          "2012-04-06T06:00:00",
          "2012-04-06T07:00:00",
          "2012-04-06T08:00:00",
          "2012-04-06T09:00:00",
          "2012-04-06T10:00:00",
          "2012-04-06T11:00:00",
          "2012-04-06T12:00:00",
          "2012-04-06T13:00:00",
          "2012-04-06T14:00:00",
          "2012-04-06T15:00:00",
          "2012-04-06T16:00:00",
          "2012-04-06T17:00:00",
          "2012-04-06T18:00:00",
          "2012-04-06T19:00:00",
          "2012-04-06T20:00:00",
          "2012-04-06T21:00:00",
          "2012-04-06T22:00:00",
          "2012-04-06T23:00:00",
          "2012-04-07T00:00:00",
          "2012-04-07T01:00:00",
          "2012-04-07T02:00:00",
          "2012-04-07T03:00:00",
          "2012-04-07T04:00:00",
          "2012-04-07T05:00:00",
          "2012-04-07T06:00:00",
          "2012-04-07T07:00:00",
          "2012-04-07T08:00:00"
         ],
         "y": [
          null,
          null,
          null,
          null,
          16,
          null,
          20,
          213,
          82,
          null,
          35,
          null,
          null,
          null,
          null,
          null,
          null,
          null,
          null,
          null,
          null,
          null,
          null,
          null,
          null,
          null,
          null,
          null,
          null,
          null,
          null,
          null,
          null,
          null,
          null,
          null,
          null,
          null,
          null,
          null
         ]
        },
        {
         "connectgaps": false,
         "mode": "lines+markers",
         "name": " Potentially Bad Traffic",
         "type": "scatter",
         "x": [
          "2012-04-05T17:00:00",
          "2012-04-05T18:00:00",
          "2012-04-05T19:00:00",
          "2012-04-05T20:00:00",
          "2012-04-05T21:00:00",
          "2012-04-05T22:00:00",
          "2012-04-05T23:00:00",
          "2012-04-06T00:00:00",
          "2012-04-06T01:00:00",
          "2012-04-06T02:00:00",
          "2012-04-06T03:00:00",
          "2012-04-06T04:00:00",
          "2012-04-06T05:00:00",
          "2012-04-06T06:00:00",
          "2012-04-06T07:00:00",
          "2012-04-06T08:00:00",
          "2012-04-06T09:00:00",
          "2012-04-06T10:00:00",
          "2012-04-06T11:00:00",
          "2012-04-06T12:00:00",
          "2012-04-06T13:00:00",
          "2012-04-06T14:00:00",
          "2012-04-06T15:00:00",
          "2012-04-06T16:00:00",
          "2012-04-06T17:00:00",
          "2012-04-06T18:00:00",
          "2012-04-06T19:00:00",
          "2012-04-06T20:00:00",
          "2012-04-06T21:00:00",
          "2012-04-06T22:00:00",
          "2012-04-06T23:00:00",
          "2012-04-07T00:00:00",
          "2012-04-07T01:00:00",
          "2012-04-07T02:00:00",
          "2012-04-07T03:00:00",
          "2012-04-07T04:00:00",
          "2012-04-07T05:00:00",
          "2012-04-07T06:00:00",
          "2012-04-07T07:00:00",
          "2012-04-07T08:00:00"
         ],
         "y": [
          null,
          null,
          null,
          null,
          16,
          null,
          16,
          68,
          52,
          null,
          20,
          null,
          null,
          null,
          null,
          null,
          null,
          null,
          null,
          null,
          null,
          null,
          null,
          null,
          null,
          null,
          null,
          null,
          null,
          null,
          null,
          null,
          null,
          null,
          null,
          null,
          null,
          null,
          null,
          null
         ]
        }
       ],
       "layout": {
        "template": {
         "data": {
          "bar": [
           {
            "error_x": {
             "color": "#2a3f5f"
            },
            "error_y": {
             "color": "#2a3f5f"
            },
            "marker": {
             "line": {
              "color": "#E5ECF6",
              "width": 0.5
             }
            },
            "type": "bar"
           }
          ],
          "barpolar": [
           {
            "marker": {
             "line": {
              "color": "#E5ECF6",
              "width": 0.5
             }
            },
            "type": "barpolar"
           }
          ],
          "carpet": [
           {
            "aaxis": {
             "endlinecolor": "#2a3f5f",
             "gridcolor": "white",
             "linecolor": "white",
             "minorgridcolor": "white",
             "startlinecolor": "#2a3f5f"
            },
            "baxis": {
             "endlinecolor": "#2a3f5f",
             "gridcolor": "white",
             "linecolor": "white",
             "minorgridcolor": "white",
             "startlinecolor": "#2a3f5f"
            },
            "type": "carpet"
           }
          ],
          "choropleth": [
           {
            "colorbar": {
             "outlinewidth": 0,
             "ticks": ""
            },
            "type": "choropleth"
           }
          ],
          "contour": [
           {
            "colorbar": {
             "outlinewidth": 0,
             "ticks": ""
            },
            "colorscale": [
             [
              0,
              "#0d0887"
             ],
             [
              0.1111111111111111,
              "#46039f"
             ],
             [
              0.2222222222222222,
              "#7201a8"
             ],
             [
              0.3333333333333333,
              "#9c179e"
             ],
             [
              0.4444444444444444,
              "#bd3786"
             ],
             [
              0.5555555555555556,
              "#d8576b"
             ],
             [
              0.6666666666666666,
              "#ed7953"
             ],
             [
              0.7777777777777778,
              "#fb9f3a"
             ],
             [
              0.8888888888888888,
              "#fdca26"
             ],
             [
              1,
              "#f0f921"
             ]
            ],
            "type": "contour"
           }
          ],
          "contourcarpet": [
           {
            "colorbar": {
             "outlinewidth": 0,
             "ticks": ""
            },
            "type": "contourcarpet"
           }
          ],
          "heatmap": [
           {
            "colorbar": {
             "outlinewidth": 0,
             "ticks": ""
            },
            "colorscale": [
             [
              0,
              "#0d0887"
             ],
             [
              0.1111111111111111,
              "#46039f"
             ],
             [
              0.2222222222222222,
              "#7201a8"
             ],
             [
              0.3333333333333333,
              "#9c179e"
             ],
             [
              0.4444444444444444,
              "#bd3786"
             ],
             [
              0.5555555555555556,
              "#d8576b"
             ],
             [
              0.6666666666666666,
              "#ed7953"
             ],
             [
              0.7777777777777778,
              "#fb9f3a"
             ],
             [
              0.8888888888888888,
              "#fdca26"
             ],
             [
              1,
              "#f0f921"
             ]
            ],
            "type": "heatmap"
           }
          ],
          "heatmapgl": [
           {
            "colorbar": {
             "outlinewidth": 0,
             "ticks": ""
            },
            "colorscale": [
             [
              0,
              "#0d0887"
             ],
             [
              0.1111111111111111,
              "#46039f"
             ],
             [
              0.2222222222222222,
              "#7201a8"
             ],
             [
              0.3333333333333333,
              "#9c179e"
             ],
             [
              0.4444444444444444,
              "#bd3786"
             ],
             [
              0.5555555555555556,
              "#d8576b"
             ],
             [
              0.6666666666666666,
              "#ed7953"
             ],
             [
              0.7777777777777778,
              "#fb9f3a"
             ],
             [
              0.8888888888888888,
              "#fdca26"
             ],
             [
              1,
              "#f0f921"
             ]
            ],
            "type": "heatmapgl"
           }
          ],
          "histogram": [
           {
            "marker": {
             "colorbar": {
              "outlinewidth": 0,
              "ticks": ""
             }
            },
            "type": "histogram"
           }
          ],
          "histogram2d": [
           {
            "colorbar": {
             "outlinewidth": 0,
             "ticks": ""
            },
            "colorscale": [
             [
              0,
              "#0d0887"
             ],
             [
              0.1111111111111111,
              "#46039f"
             ],
             [
              0.2222222222222222,
              "#7201a8"
             ],
             [
              0.3333333333333333,
              "#9c179e"
             ],
             [
              0.4444444444444444,
              "#bd3786"
             ],
             [
              0.5555555555555556,
              "#d8576b"
             ],
             [
              0.6666666666666666,
              "#ed7953"
             ],
             [
              0.7777777777777778,
              "#fb9f3a"
             ],
             [
              0.8888888888888888,
              "#fdca26"
             ],
             [
              1,
              "#f0f921"
             ]
            ],
            "type": "histogram2d"
           }
          ],
          "histogram2dcontour": [
           {
            "colorbar": {
             "outlinewidth": 0,
             "ticks": ""
            },
            "colorscale": [
             [
              0,
              "#0d0887"
             ],
             [
              0.1111111111111111,
              "#46039f"
             ],
             [
              0.2222222222222222,
              "#7201a8"
             ],
             [
              0.3333333333333333,
              "#9c179e"
             ],
             [
              0.4444444444444444,
              "#bd3786"
             ],
             [
              0.5555555555555556,
              "#d8576b"
             ],
             [
              0.6666666666666666,
              "#ed7953"
             ],
             [
              0.7777777777777778,
              "#fb9f3a"
             ],
             [
              0.8888888888888888,
              "#fdca26"
             ],
             [
              1,
              "#f0f921"
             ]
            ],
            "type": "histogram2dcontour"
           }
          ],
          "mesh3d": [
           {
            "colorbar": {
             "outlinewidth": 0,
             "ticks": ""
            },
            "type": "mesh3d"
           }
          ],
          "parcoords": [
           {
            "line": {
             "colorbar": {
              "outlinewidth": 0,
              "ticks": ""
             }
            },
            "type": "parcoords"
           }
          ],
          "pie": [
           {
            "automargin": true,
            "type": "pie"
           }
          ],
          "scatter": [
           {
            "marker": {
             "colorbar": {
              "outlinewidth": 0,
              "ticks": ""
             }
            },
            "type": "scatter"
           }
          ],
          "scatter3d": [
           {
            "line": {
             "colorbar": {
              "outlinewidth": 0,
              "ticks": ""
             }
            },
            "marker": {
             "colorbar": {
              "outlinewidth": 0,
              "ticks": ""
             }
            },
            "type": "scatter3d"
           }
          ],
          "scattercarpet": [
           {
            "marker": {
             "colorbar": {
              "outlinewidth": 0,
              "ticks": ""
             }
            },
            "type": "scattercarpet"
           }
          ],
          "scattergeo": [
           {
            "marker": {
             "colorbar": {
              "outlinewidth": 0,
              "ticks": ""
             }
            },
            "type": "scattergeo"
           }
          ],
          "scattergl": [
           {
            "marker": {
             "colorbar": {
              "outlinewidth": 0,
              "ticks": ""
             }
            },
            "type": "scattergl"
           }
          ],
          "scattermapbox": [
           {
            "marker": {
             "colorbar": {
              "outlinewidth": 0,
              "ticks": ""
             }
            },
            "type": "scattermapbox"
           }
          ],
          "scatterpolar": [
           {
            "marker": {
             "colorbar": {
              "outlinewidth": 0,
              "ticks": ""
             }
            },
            "type": "scatterpolar"
           }
          ],
          "scatterpolargl": [
           {
            "marker": {
             "colorbar": {
              "outlinewidth": 0,
              "ticks": ""
             }
            },
            "type": "scatterpolargl"
           }
          ],
          "scatterternary": [
           {
            "marker": {
             "colorbar": {
              "outlinewidth": 0,
              "ticks": ""
             }
            },
            "type": "scatterternary"
           }
          ],
          "surface": [
           {
            "colorbar": {
             "outlinewidth": 0,
             "ticks": ""
            },
            "colorscale": [
             [
              0,
              "#0d0887"
             ],
             [
              0.1111111111111111,
              "#46039f"
             ],
             [
              0.2222222222222222,
              "#7201a8"
             ],
             [
              0.3333333333333333,
              "#9c179e"
             ],
             [
              0.4444444444444444,
              "#bd3786"
             ],
             [
              0.5555555555555556,
              "#d8576b"
             ],
             [
              0.6666666666666666,
              "#ed7953"
             ],
             [
              0.7777777777777778,
              "#fb9f3a"
             ],
             [
              0.8888888888888888,
              "#fdca26"
             ],
             [
              1,
              "#f0f921"
             ]
            ],
            "type": "surface"
           }
          ],
          "table": [
           {
            "cells": {
             "fill": {
              "color": "#EBF0F8"
             },
             "line": {
              "color": "white"
             }
            },
            "header": {
             "fill": {
              "color": "#C8D4E3"
             },
             "line": {
              "color": "white"
             }
            },
            "type": "table"
           }
          ]
         },
         "layout": {
          "annotationdefaults": {
           "arrowcolor": "#2a3f5f",
           "arrowhead": 0,
           "arrowwidth": 1
          },
          "autotypenumbers": "strict",
          "coloraxis": {
           "colorbar": {
            "outlinewidth": 0,
            "ticks": ""
           }
          },
          "colorscale": {
           "diverging": [
            [
             0,
             "#8e0152"
            ],
            [
             0.1,
             "#c51b7d"
            ],
            [
             0.2,
             "#de77ae"
            ],
            [
             0.3,
             "#f1b6da"
            ],
            [
             0.4,
             "#fde0ef"
            ],
            [
             0.5,
             "#f7f7f7"
            ],
            [
             0.6,
             "#e6f5d0"
            ],
            [
             0.7,
             "#b8e186"
            ],
            [
             0.8,
             "#7fbc41"
            ],
            [
             0.9,
             "#4d9221"
            ],
            [
             1,
             "#276419"
            ]
           ],
           "sequential": [
            [
             0,
             "#0d0887"
            ],
            [
             0.1111111111111111,
             "#46039f"
            ],
            [
             0.2222222222222222,
             "#7201a8"
            ],
            [
             0.3333333333333333,
             "#9c179e"
            ],
            [
             0.4444444444444444,
             "#bd3786"
            ],
            [
             0.5555555555555556,
             "#d8576b"
            ],
            [
             0.6666666666666666,
             "#ed7953"
            ],
            [
             0.7777777777777778,
             "#fb9f3a"
            ],
            [
             0.8888888888888888,
             "#fdca26"
            ],
            [
             1,
             "#f0f921"
            ]
           ],
           "sequentialminus": [
            [
             0,
             "#0d0887"
            ],
            [
             0.1111111111111111,
             "#46039f"
            ],
            [
             0.2222222222222222,
             "#7201a8"
            ],
            [
             0.3333333333333333,
             "#9c179e"
            ],
            [
             0.4444444444444444,
             "#bd3786"
            ],
            [
             0.5555555555555556,
             "#d8576b"
            ],
            [
             0.6666666666666666,
             "#ed7953"
            ],
            [
             0.7777777777777778,
             "#fb9f3a"
            ],
            [
             0.8888888888888888,
             "#fdca26"
            ],
            [
             1,
             "#f0f921"
            ]
           ]
          },
          "colorway": [
           "#636efa",
           "#EF553B",
           "#00cc96",
           "#ab63fa",
           "#FFA15A",
           "#19d3f3",
           "#FF6692",
           "#B6E880",
           "#FF97FF",
           "#FECB52"
          ],
          "font": {
           "color": "#2a3f5f"
          },
          "geo": {
           "bgcolor": "white",
           "lakecolor": "white",
           "landcolor": "#E5ECF6",
           "showlakes": true,
           "showland": true,
           "subunitcolor": "white"
          },
          "hoverlabel": {
           "align": "left"
          },
          "hovermode": "closest",
          "mapbox": {
           "style": "light"
          },
          "paper_bgcolor": "white",
          "plot_bgcolor": "#E5ECF6",
          "polar": {
           "angularaxis": {
            "gridcolor": "white",
            "linecolor": "white",
            "ticks": ""
           },
           "bgcolor": "#E5ECF6",
           "radialaxis": {
            "gridcolor": "white",
            "linecolor": "white",
            "ticks": ""
           }
          },
          "scene": {
           "xaxis": {
            "backgroundcolor": "#E5ECF6",
            "gridcolor": "white",
            "gridwidth": 2,
            "linecolor": "white",
            "showbackground": true,
            "ticks": "",
            "zerolinecolor": "white"
           },
           "yaxis": {
            "backgroundcolor": "#E5ECF6",
            "gridcolor": "white",
            "gridwidth": 2,
            "linecolor": "white",
            "showbackground": true,
            "ticks": "",
            "zerolinecolor": "white"
           },
           "zaxis": {
            "backgroundcolor": "#E5ECF6",
            "gridcolor": "white",
            "gridwidth": 2,
            "linecolor": "white",
            "showbackground": true,
            "ticks": "",
            "zerolinecolor": "white"
           }
          },
          "shapedefaults": {
           "line": {
            "color": "#2a3f5f"
           }
          },
          "ternary": {
           "aaxis": {
            "gridcolor": "white",
            "linecolor": "white",
            "ticks": ""
           },
           "baxis": {
            "gridcolor": "white",
            "linecolor": "white",
            "ticks": ""
           },
           "bgcolor": "#E5ECF6",
           "caxis": {
            "gridcolor": "white",
            "linecolor": "white",
            "ticks": ""
           }
          },
          "title": {
           "x": 0.05
          },
          "xaxis": {
           "automargin": true,
           "gridcolor": "white",
           "linecolor": "white",
           "ticks": "",
           "title": {
            "standoff": 15
           },
           "zerolinecolor": "white",
           "zerolinewidth": 2
          },
          "yaxis": {
           "automargin": true,
           "gridcolor": "white",
           "linecolor": "white",
           "ticks": "",
           "title": {
            "standoff": 15
           },
           "zerolinecolor": "white",
           "zerolinewidth": 2
          }
         }
        }
       }
      },
      "text/html": [
       "<div>                            <div id=\"a36ea23e-4318-4af2-b0de-4b09f4ed5117\" class=\"plotly-graph-div\" style=\"height:525px; width:100%;\"></div>            <script type=\"text/javascript\">                require([\"plotly\"], function(Plotly) {                    window.PLOTLYENV=window.PLOTLYENV || {};                                    if (document.getElementById(\"a36ea23e-4318-4af2-b0de-4b09f4ed5117\")) {                    Plotly.newPlot(                        \"a36ea23e-4318-4af2-b0de-4b09f4ed5117\",                        [{\"connectgaps\": false, \"mode\": \"lines+markers\", \"name\": \" Generic Protocol Command Decode\", \"type\": \"scatter\", \"x\": [\"2012-04-05T17:00:00\", \"2012-04-05T18:00:00\", \"2012-04-05T19:00:00\", \"2012-04-05T20:00:00\", \"2012-04-05T21:00:00\", \"2012-04-05T22:00:00\", \"2012-04-05T23:00:00\", \"2012-04-06T00:00:00\", \"2012-04-06T01:00:00\", \"2012-04-06T02:00:00\", \"2012-04-06T03:00:00\", \"2012-04-06T04:00:00\", \"2012-04-06T05:00:00\", \"2012-04-06T06:00:00\", \"2012-04-06T07:00:00\", \"2012-04-06T08:00:00\", \"2012-04-06T09:00:00\", \"2012-04-06T10:00:00\", \"2012-04-06T11:00:00\", \"2012-04-06T12:00:00\", \"2012-04-06T13:00:00\", \"2012-04-06T14:00:00\", \"2012-04-06T15:00:00\", \"2012-04-06T16:00:00\", \"2012-04-06T17:00:00\", \"2012-04-06T18:00:00\", \"2012-04-06T19:00:00\", \"2012-04-06T20:00:00\", \"2012-04-06T21:00:00\", \"2012-04-06T22:00:00\", \"2012-04-06T23:00:00\", \"2012-04-07T00:00:00\", \"2012-04-07T01:00:00\", \"2012-04-07T02:00:00\", \"2012-04-07T03:00:00\", \"2012-04-07T04:00:00\", \"2012-04-07T05:00:00\", \"2012-04-07T06:00:00\", \"2012-04-07T07:00:00\", \"2012-04-07T08:00:00\"], \"y\": [91.0, 739.0, 904.0, 760.0, 896.0, 802.0, 845.0, 843.0, 805.0, 871.0, 799.0, 867.0, 822.0, 842.0, 834.0, 813.0, 846.0, 828.0, 849.0, 809.0, 858.0, 826.0, 841.0, 842.0, 1026.0, 762.0, 896.0, 832.0, 812.0, 886.0, 776.0, 892.0, 778.0, 870.0, 826.0, 829.0, 856.0, 807.0, 865.0, 808.0]}, {\"connectgaps\": false, \"mode\": \"lines+markers\", \"name\": \" Potential Corporate Privacy Violation\", \"type\": \"scatter\", \"x\": [\"2012-04-05T17:00:00\", \"2012-04-05T18:00:00\", \"2012-04-05T19:00:00\", \"2012-04-05T20:00:00\", \"2012-04-05T21:00:00\", \"2012-04-05T22:00:00\", \"2012-04-05T23:00:00\", \"2012-04-06T00:00:00\", \"2012-04-06T01:00:00\", \"2012-04-06T02:00:00\", \"2012-04-06T03:00:00\", \"2012-04-06T04:00:00\", \"2012-04-06T05:00:00\", \"2012-04-06T06:00:00\", \"2012-04-06T07:00:00\", \"2012-04-06T08:00:00\", \"2012-04-06T09:00:00\", \"2012-04-06T10:00:00\", \"2012-04-06T11:00:00\", \"2012-04-06T12:00:00\", \"2012-04-06T13:00:00\", \"2012-04-06T14:00:00\", \"2012-04-06T15:00:00\", \"2012-04-06T16:00:00\", \"2012-04-06T17:00:00\", \"2012-04-06T18:00:00\", \"2012-04-06T19:00:00\", \"2012-04-06T20:00:00\", \"2012-04-06T21:00:00\", \"2012-04-06T22:00:00\", \"2012-04-06T23:00:00\", \"2012-04-07T00:00:00\", \"2012-04-07T01:00:00\", \"2012-04-07T02:00:00\", \"2012-04-07T03:00:00\", \"2012-04-07T04:00:00\", \"2012-04-07T05:00:00\", \"2012-04-07T06:00:00\", \"2012-04-07T07:00:00\", \"2012-04-07T08:00:00\"], \"y\": [null, 60.0, null, null, null, null, null, null, null, null, null, null, null, null, null, null, null, null, null, null, null, null, null, null, 358.0, 16.0, null, null, null, null, null, null, null, null, null, null, null, null, null, null]}, {\"connectgaps\": false, \"mode\": \"lines+markers\", \"name\": \" Misc activity\", \"type\": \"scatter\", \"x\": [\"2012-04-05T17:00:00\", \"2012-04-05T18:00:00\", \"2012-04-05T19:00:00\", \"2012-04-05T20:00:00\", \"2012-04-05T21:00:00\", \"2012-04-05T22:00:00\", \"2012-04-05T23:00:00\", \"2012-04-06T00:00:00\", \"2012-04-06T01:00:00\", \"2012-04-06T02:00:00\", \"2012-04-06T03:00:00\", \"2012-04-06T04:00:00\", \"2012-04-06T05:00:00\", \"2012-04-06T06:00:00\", \"2012-04-06T07:00:00\", \"2012-04-06T08:00:00\", \"2012-04-06T09:00:00\", \"2012-04-06T10:00:00\", \"2012-04-06T11:00:00\", \"2012-04-06T12:00:00\", \"2012-04-06T13:00:00\", \"2012-04-06T14:00:00\", \"2012-04-06T15:00:00\", \"2012-04-06T16:00:00\", \"2012-04-06T17:00:00\", \"2012-04-06T18:00:00\", \"2012-04-06T19:00:00\", \"2012-04-06T20:00:00\", \"2012-04-06T21:00:00\", \"2012-04-06T22:00:00\", \"2012-04-06T23:00:00\", \"2012-04-07T00:00:00\", \"2012-04-07T01:00:00\", \"2012-04-07T02:00:00\", \"2012-04-07T03:00:00\", \"2012-04-07T04:00:00\", \"2012-04-07T05:00:00\", \"2012-04-07T06:00:00\", \"2012-04-07T07:00:00\", \"2012-04-07T08:00:00\"], \"y\": [null, null, null, 151.0, 224.0, 236.0, 202.0, 473.0, 712.0, 720.0, 727.0, 696.0, 676.0, 721.0, 690.0, 693.0, 730.0, 684.0, 723.0, 712.0, 708.0, 716.0, 705.0, 389.0, 251.0, 290.0, 309.0, 337.0, 328.0, 327.0, 320.0, 324.0, 322.0, 328.0, 328.0, 310.0, 318.0, 316.0, 330.0, 322.0]}, {\"connectgaps\": false, \"mode\": \"lines+markers\", \"name\": \" Attempted Information Leak\", \"type\": \"scatter\", \"x\": [\"2012-04-05T17:00:00\", \"2012-04-05T18:00:00\", \"2012-04-05T19:00:00\", \"2012-04-05T20:00:00\", \"2012-04-05T21:00:00\", \"2012-04-05T22:00:00\", \"2012-04-05T23:00:00\", \"2012-04-06T00:00:00\", \"2012-04-06T01:00:00\", \"2012-04-06T02:00:00\", \"2012-04-06T03:00:00\", \"2012-04-06T04:00:00\", \"2012-04-06T05:00:00\", \"2012-04-06T06:00:00\", \"2012-04-06T07:00:00\", \"2012-04-06T08:00:00\", \"2012-04-06T09:00:00\", \"2012-04-06T10:00:00\", \"2012-04-06T11:00:00\", \"2012-04-06T12:00:00\", \"2012-04-06T13:00:00\", \"2012-04-06T14:00:00\", \"2012-04-06T15:00:00\", \"2012-04-06T16:00:00\", \"2012-04-06T17:00:00\", \"2012-04-06T18:00:00\", \"2012-04-06T19:00:00\", \"2012-04-06T20:00:00\", \"2012-04-06T21:00:00\", \"2012-04-06T22:00:00\", \"2012-04-06T23:00:00\", \"2012-04-07T00:00:00\", \"2012-04-07T01:00:00\", \"2012-04-07T02:00:00\", \"2012-04-07T03:00:00\", \"2012-04-07T04:00:00\", \"2012-04-07T05:00:00\", \"2012-04-07T06:00:00\", \"2012-04-07T07:00:00\", \"2012-04-07T08:00:00\"], \"y\": [null, null, null, null, 16.0, null, 20.0, 213.0, 82.0, null, 35.0, null, null, null, null, null, null, null, null, null, null, null, null, null, null, null, null, null, null, null, null, null, null, null, null, null, null, null, null, null]}, {\"connectgaps\": false, \"mode\": \"lines+markers\", \"name\": \" Potentially Bad Traffic\", \"type\": \"scatter\", \"x\": [\"2012-04-05T17:00:00\", \"2012-04-05T18:00:00\", \"2012-04-05T19:00:00\", \"2012-04-05T20:00:00\", \"2012-04-05T21:00:00\", \"2012-04-05T22:00:00\", \"2012-04-05T23:00:00\", \"2012-04-06T00:00:00\", \"2012-04-06T01:00:00\", \"2012-04-06T02:00:00\", \"2012-04-06T03:00:00\", \"2012-04-06T04:00:00\", \"2012-04-06T05:00:00\", \"2012-04-06T06:00:00\", \"2012-04-06T07:00:00\", \"2012-04-06T08:00:00\", \"2012-04-06T09:00:00\", \"2012-04-06T10:00:00\", \"2012-04-06T11:00:00\", \"2012-04-06T12:00:00\", \"2012-04-06T13:00:00\", \"2012-04-06T14:00:00\", \"2012-04-06T15:00:00\", \"2012-04-06T16:00:00\", \"2012-04-06T17:00:00\", \"2012-04-06T18:00:00\", \"2012-04-06T19:00:00\", \"2012-04-06T20:00:00\", \"2012-04-06T21:00:00\", \"2012-04-06T22:00:00\", \"2012-04-06T23:00:00\", \"2012-04-07T00:00:00\", \"2012-04-07T01:00:00\", \"2012-04-07T02:00:00\", \"2012-04-07T03:00:00\", \"2012-04-07T04:00:00\", \"2012-04-07T05:00:00\", \"2012-04-07T06:00:00\", \"2012-04-07T07:00:00\", \"2012-04-07T08:00:00\"], \"y\": [null, null, null, null, 16.0, null, 16.0, 68.0, 52.0, null, 20.0, null, null, null, null, null, null, null, null, null, null, null, null, null, null, null, null, null, null, null, null, null, null, null, null, null, null, null, null, null]}],                        {\"template\": {\"data\": {\"bar\": [{\"error_x\": {\"color\": \"#2a3f5f\"}, \"error_y\": {\"color\": \"#2a3f5f\"}, \"marker\": {\"line\": {\"color\": \"#E5ECF6\", \"width\": 0.5}}, \"type\": \"bar\"}], \"barpolar\": [{\"marker\": {\"line\": {\"color\": \"#E5ECF6\", \"width\": 0.5}}, \"type\": \"barpolar\"}], \"carpet\": [{\"aaxis\": {\"endlinecolor\": \"#2a3f5f\", \"gridcolor\": \"white\", \"linecolor\": \"white\", \"minorgridcolor\": \"white\", \"startlinecolor\": \"#2a3f5f\"}, \"baxis\": {\"endlinecolor\": \"#2a3f5f\", \"gridcolor\": \"white\", \"linecolor\": \"white\", \"minorgridcolor\": \"white\", \"startlinecolor\": \"#2a3f5f\"}, \"type\": \"carpet\"}], \"choropleth\": [{\"colorbar\": {\"outlinewidth\": 0, \"ticks\": \"\"}, \"type\": \"choropleth\"}], \"contour\": [{\"colorbar\": {\"outlinewidth\": 0, \"ticks\": \"\"}, \"colorscale\": [[0.0, \"#0d0887\"], [0.1111111111111111, \"#46039f\"], [0.2222222222222222, \"#7201a8\"], [0.3333333333333333, \"#9c179e\"], [0.4444444444444444, \"#bd3786\"], [0.5555555555555556, \"#d8576b\"], [0.6666666666666666, \"#ed7953\"], [0.7777777777777778, \"#fb9f3a\"], [0.8888888888888888, \"#fdca26\"], [1.0, \"#f0f921\"]], \"type\": \"contour\"}], \"contourcarpet\": [{\"colorbar\": {\"outlinewidth\": 0, \"ticks\": \"\"}, \"type\": \"contourcarpet\"}], \"heatmap\": [{\"colorbar\": {\"outlinewidth\": 0, \"ticks\": \"\"}, \"colorscale\": [[0.0, \"#0d0887\"], [0.1111111111111111, \"#46039f\"], [0.2222222222222222, \"#7201a8\"], [0.3333333333333333, \"#9c179e\"], [0.4444444444444444, \"#bd3786\"], [0.5555555555555556, \"#d8576b\"], [0.6666666666666666, \"#ed7953\"], [0.7777777777777778, \"#fb9f3a\"], [0.8888888888888888, \"#fdca26\"], [1.0, \"#f0f921\"]], \"type\": \"heatmap\"}], \"heatmapgl\": [{\"colorbar\": {\"outlinewidth\": 0, \"ticks\": \"\"}, \"colorscale\": [[0.0, \"#0d0887\"], [0.1111111111111111, \"#46039f\"], [0.2222222222222222, \"#7201a8\"], [0.3333333333333333, \"#9c179e\"], [0.4444444444444444, \"#bd3786\"], [0.5555555555555556, \"#d8576b\"], [0.6666666666666666, \"#ed7953\"], [0.7777777777777778, \"#fb9f3a\"], [0.8888888888888888, \"#fdca26\"], [1.0, \"#f0f921\"]], \"type\": \"heatmapgl\"}], \"histogram\": [{\"marker\": {\"colorbar\": {\"outlinewidth\": 0, \"ticks\": \"\"}}, \"type\": \"histogram\"}], \"histogram2d\": [{\"colorbar\": {\"outlinewidth\": 0, \"ticks\": \"\"}, \"colorscale\": [[0.0, \"#0d0887\"], [0.1111111111111111, \"#46039f\"], [0.2222222222222222, \"#7201a8\"], [0.3333333333333333, \"#9c179e\"], [0.4444444444444444, \"#bd3786\"], [0.5555555555555556, \"#d8576b\"], [0.6666666666666666, \"#ed7953\"], [0.7777777777777778, \"#fb9f3a\"], [0.8888888888888888, \"#fdca26\"], [1.0, \"#f0f921\"]], \"type\": \"histogram2d\"}], \"histogram2dcontour\": [{\"colorbar\": {\"outlinewidth\": 0, \"ticks\": \"\"}, \"colorscale\": [[0.0, \"#0d0887\"], [0.1111111111111111, \"#46039f\"], [0.2222222222222222, \"#7201a8\"], [0.3333333333333333, \"#9c179e\"], [0.4444444444444444, \"#bd3786\"], [0.5555555555555556, \"#d8576b\"], [0.6666666666666666, \"#ed7953\"], [0.7777777777777778, \"#fb9f3a\"], [0.8888888888888888, \"#fdca26\"], [1.0, \"#f0f921\"]], \"type\": \"histogram2dcontour\"}], \"mesh3d\": [{\"colorbar\": {\"outlinewidth\": 0, \"ticks\": \"\"}, \"type\": \"mesh3d\"}], \"parcoords\": [{\"line\": {\"colorbar\": {\"outlinewidth\": 0, \"ticks\": \"\"}}, \"type\": \"parcoords\"}], \"pie\": [{\"automargin\": true, \"type\": \"pie\"}], \"scatter\": [{\"marker\": {\"colorbar\": {\"outlinewidth\": 0, \"ticks\": \"\"}}, \"type\": \"scatter\"}], \"scatter3d\": [{\"line\": {\"colorbar\": {\"outlinewidth\": 0, \"ticks\": \"\"}}, \"marker\": {\"colorbar\": {\"outlinewidth\": 0, \"ticks\": \"\"}}, \"type\": \"scatter3d\"}], \"scattercarpet\": [{\"marker\": {\"colorbar\": {\"outlinewidth\": 0, \"ticks\": \"\"}}, \"type\": \"scattercarpet\"}], \"scattergeo\": [{\"marker\": {\"colorbar\": {\"outlinewidth\": 0, \"ticks\": \"\"}}, \"type\": \"scattergeo\"}], \"scattergl\": [{\"marker\": {\"colorbar\": {\"outlinewidth\": 0, \"ticks\": \"\"}}, \"type\": \"scattergl\"}], \"scattermapbox\": [{\"marker\": {\"colorbar\": {\"outlinewidth\": 0, \"ticks\": \"\"}}, \"type\": \"scattermapbox\"}], \"scatterpolar\": [{\"marker\": {\"colorbar\": {\"outlinewidth\": 0, \"ticks\": \"\"}}, \"type\": \"scatterpolar\"}], \"scatterpolargl\": [{\"marker\": {\"colorbar\": {\"outlinewidth\": 0, \"ticks\": \"\"}}, \"type\": \"scatterpolargl\"}], \"scatterternary\": [{\"marker\": {\"colorbar\": {\"outlinewidth\": 0, \"ticks\": \"\"}}, \"type\": \"scatterternary\"}], \"surface\": [{\"colorbar\": {\"outlinewidth\": 0, \"ticks\": \"\"}, \"colorscale\": [[0.0, \"#0d0887\"], [0.1111111111111111, \"#46039f\"], [0.2222222222222222, \"#7201a8\"], [0.3333333333333333, \"#9c179e\"], [0.4444444444444444, \"#bd3786\"], [0.5555555555555556, \"#d8576b\"], [0.6666666666666666, \"#ed7953\"], [0.7777777777777778, \"#fb9f3a\"], [0.8888888888888888, \"#fdca26\"], [1.0, \"#f0f921\"]], \"type\": \"surface\"}], \"table\": [{\"cells\": {\"fill\": {\"color\": \"#EBF0F8\"}, \"line\": {\"color\": \"white\"}}, \"header\": {\"fill\": {\"color\": \"#C8D4E3\"}, \"line\": {\"color\": \"white\"}}, \"type\": \"table\"}]}, \"layout\": {\"annotationdefaults\": {\"arrowcolor\": \"#2a3f5f\", \"arrowhead\": 0, \"arrowwidth\": 1}, \"autotypenumbers\": \"strict\", \"coloraxis\": {\"colorbar\": {\"outlinewidth\": 0, \"ticks\": \"\"}}, \"colorscale\": {\"diverging\": [[0, \"#8e0152\"], [0.1, \"#c51b7d\"], [0.2, \"#de77ae\"], [0.3, \"#f1b6da\"], [0.4, \"#fde0ef\"], [0.5, \"#f7f7f7\"], [0.6, \"#e6f5d0\"], [0.7, \"#b8e186\"], [0.8, \"#7fbc41\"], [0.9, \"#4d9221\"], [1, \"#276419\"]], \"sequential\": [[0.0, \"#0d0887\"], [0.1111111111111111, \"#46039f\"], [0.2222222222222222, \"#7201a8\"], [0.3333333333333333, \"#9c179e\"], [0.4444444444444444, \"#bd3786\"], [0.5555555555555556, \"#d8576b\"], [0.6666666666666666, \"#ed7953\"], [0.7777777777777778, \"#fb9f3a\"], [0.8888888888888888, \"#fdca26\"], [1.0, \"#f0f921\"]], \"sequentialminus\": [[0.0, \"#0d0887\"], [0.1111111111111111, \"#46039f\"], [0.2222222222222222, \"#7201a8\"], [0.3333333333333333, \"#9c179e\"], [0.4444444444444444, \"#bd3786\"], [0.5555555555555556, \"#d8576b\"], [0.6666666666666666, \"#ed7953\"], [0.7777777777777778, \"#fb9f3a\"], [0.8888888888888888, \"#fdca26\"], [1.0, \"#f0f921\"]]}, \"colorway\": [\"#636efa\", \"#EF553B\", \"#00cc96\", \"#ab63fa\", \"#FFA15A\", \"#19d3f3\", \"#FF6692\", \"#B6E880\", \"#FF97FF\", \"#FECB52\"], \"font\": {\"color\": \"#2a3f5f\"}, \"geo\": {\"bgcolor\": \"white\", \"lakecolor\": \"white\", \"landcolor\": \"#E5ECF6\", \"showlakes\": true, \"showland\": true, \"subunitcolor\": \"white\"}, \"hoverlabel\": {\"align\": \"left\"}, \"hovermode\": \"closest\", \"mapbox\": {\"style\": \"light\"}, \"paper_bgcolor\": \"white\", \"plot_bgcolor\": \"#E5ECF6\", \"polar\": {\"angularaxis\": {\"gridcolor\": \"white\", \"linecolor\": \"white\", \"ticks\": \"\"}, \"bgcolor\": \"#E5ECF6\", \"radialaxis\": {\"gridcolor\": \"white\", \"linecolor\": \"white\", \"ticks\": \"\"}}, \"scene\": {\"xaxis\": {\"backgroundcolor\": \"#E5ECF6\", \"gridcolor\": \"white\", \"gridwidth\": 2, \"linecolor\": \"white\", \"showbackground\": true, \"ticks\": \"\", \"zerolinecolor\": \"white\"}, \"yaxis\": {\"backgroundcolor\": \"#E5ECF6\", \"gridcolor\": \"white\", \"gridwidth\": 2, \"linecolor\": \"white\", \"showbackground\": true, \"ticks\": \"\", \"zerolinecolor\": \"white\"}, \"zaxis\": {\"backgroundcolor\": \"#E5ECF6\", \"gridcolor\": \"white\", \"gridwidth\": 2, \"linecolor\": \"white\", \"showbackground\": true, \"ticks\": \"\", \"zerolinecolor\": \"white\"}}, \"shapedefaults\": {\"line\": {\"color\": \"#2a3f5f\"}}, \"ternary\": {\"aaxis\": {\"gridcolor\": \"white\", \"linecolor\": \"white\", \"ticks\": \"\"}, \"baxis\": {\"gridcolor\": \"white\", \"linecolor\": \"white\", \"ticks\": \"\"}, \"bgcolor\": \"#E5ECF6\", \"caxis\": {\"gridcolor\": \"white\", \"linecolor\": \"white\", \"ticks\": \"\"}}, \"title\": {\"x\": 0.05}, \"xaxis\": {\"automargin\": true, \"gridcolor\": \"white\", \"linecolor\": \"white\", \"ticks\": \"\", \"title\": {\"standoff\": 15}, \"zerolinecolor\": \"white\", \"zerolinewidth\": 2}, \"yaxis\": {\"automargin\": true, \"gridcolor\": \"white\", \"linecolor\": \"white\", \"ticks\": \"\", \"title\": {\"standoff\": 15}, \"zerolinecolor\": \"white\", \"zerolinewidth\": 2}}}},                        {\"responsive\": true}                    ).then(function(){\n",
       "                            \n",
       "var gd = document.getElementById('a36ea23e-4318-4af2-b0de-4b09f4ed5117');\n",
       "var x = new MutationObserver(function (mutations, observer) {{\n",
       "        var display = window.getComputedStyle(gd).display;\n",
       "        if (!display || display === 'none') {{\n",
       "            console.log([gd, 'removed!']);\n",
       "            Plotly.purge(gd);\n",
       "            observer.disconnect();\n",
       "        }}\n",
       "}});\n",
       "\n",
       "// Listen for the removal of the full notebook cells\n",
       "var notebookContainer = gd.closest('#notebook-container');\n",
       "if (notebookContainer) {{\n",
       "    x.observe(notebookContainer, {childList: true});\n",
       "}}\n",
       "\n",
       "// Listen for the clearing of the current output cell\n",
       "var outputEl = gd.closest('.output');\n",
       "if (outputEl) {{\n",
       "    x.observe(outputEl, {childList: true});\n",
       "}}\n",
       "\n",
       "                        })                };                });            </script>        </div>"
      ]
     },
     "metadata": {},
     "output_type": "display_data"
    }
   ],
   "source": [
    "# PLOTLY GRAPH OF CLASSIFICATIONS OVER TIME \n",
    "def classifications_over_time(df):\n",
    "    fig = go.Figure()\n",
    "    # plot all classifications as different lines\n",
    "    for i in range(0, len(classifications)):\n",
    "        # filter for specific classification\n",
    "        expr = df['classification'] == classifications[i]\n",
    "        fig.add_trace(go.Scatter(\n",
    "            x=df[expr]['hour'],\n",
    "            y=df[expr]['count'],\n",
    "            name=classifications[i],\n",
    "            connectgaps=False,\n",
    "            mode='lines+markers')\n",
    "        )\n",
    "    fig.show()\n",
    "\n",
    "    \n",
    "# Create df for figure\n",
    "fig_df = fill_df_nas(grouped_class_df, 'hour', 'classification', classifications)\n",
    "classifications_over_time(fig_df)"
   ]
  }
 ],
 "metadata": {
  "kernelspec": {
   "display_name": "Python 3",
   "language": "python",
   "name": "python3"
  },
  "language_info": {
   "codemirror_mode": {
    "name": "ipython",
    "version": 3
   },
   "file_extension": ".py",
   "mimetype": "text/x-python",
   "name": "python",
   "nbconvert_exporter": "python",
   "pygments_lexer": "ipython3",
   "version": "3.7.4"
  }
 },
 "nbformat": 4,
 "nbformat_minor": 4
}
