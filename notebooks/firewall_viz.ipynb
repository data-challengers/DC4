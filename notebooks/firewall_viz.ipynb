{
 "cells": [
  {
   "cell_type": "code",
   "execution_count": 127,
   "id": "based-infrastructure",
   "metadata": {},
   "outputs": [],
   "source": [
    "import sqlite3\n",
    "import os\n",
    "import pandas as pd\n",
    "import numpy as np\n",
    "import plotly.graph_objects as go"
   ]
  },
  {
   "cell_type": "code",
   "execution_count": 53,
   "id": "classical-bunch",
   "metadata": {},
   "outputs": [
    {
     "name": "stdout",
     "output_type": "stream",
     "text": [
      "0\n"
     ]
    }
   ],
   "source": [
    "db_path = os.path.realpath(\"../DC4-data/firewall_data.db\")\n",
    "conn = sqlite3.connect(db_path)\n",
    "print(conn.total_changes)\n",
    "\n",
    "cur = conn.cursor()"
   ]
  },
  {
   "cell_type": "code",
   "execution_count": 19,
   "id": "infrared-russian",
   "metadata": {},
   "outputs": [
    {
     "name": "stdout",
     "output_type": "stream",
     "text": [
      "[(0, 'Date/time', 'date', 0, None, 0), (1, 'Syslog priority', 'text', 0, None, 0), (2, 'Operation', 'text', 0, None, 0), (3, 'Message code', 'text', 0, None, 0), (4, 'Protocol', 'text', 0, None, 0), (5, 'Source IP', 'text', 0, None, 0), (6, 'Destination IP', 'text', 0, None, 0), (7, 'Source hostname', 'text', 0, None, 0), (8, 'Destination hostname', 'text', 0, None, 0), (9, 'Source port', 'text', 0, None, 0), (10, 'Destination port', 'text', 0, None, 0), (11, 'Destination service', 'text', 0, None, 0), (12, 'Direction', 'text', 0, None, 0), (13, 'Connections built', 'integer', 0, None, 0), (14, 'Connections torn down', 'integer', 0, None, 0)]\n"
     ]
    }
   ],
   "source": [
    "# check colnames and types\n",
    "cur.execute(\"PRAGMA table_info(data);\")\n",
    "print(cur.fetchall())"
   ]
  },
  {
   "cell_type": "code",
   "execution_count": 50,
   "id": "cooked-waters",
   "metadata": {},
   "outputs": [
    {
     "name": "stdout",
     "output_type": "stream",
     "text": [
      "[('80', 21331506), ('6667', 2329914), ('(empty)', 3204), ('21', 1825), ('53', 752), ('22', 538), ('1026', 199), ('137', 130), ('113', 62), ('1025', 52)]\n"
     ]
    }
   ],
   "source": [
    "# Get top 10 ports\n",
    "cur.execute(\"SELECT `Destination port`, COUNT(`Destination port`) ct \\\n",
    "         FROM data \\\n",
    "         GROUP BY `Destination port` \\\n",
    "         ORDER BY ct DESC \\\n",
    "         LIMIT 10;\")\n",
    "print(cur.fetchall())"
   ]
  },
  {
   "cell_type": "code",
   "execution_count": 185,
   "id": "atomic-jacksonville",
   "metadata": {},
   "outputs": [],
   "source": [
    "# prep port data\n",
    "q = \"SELECT strftime('%Y-%m-%d %H:00:00', `Date/time`) date_hour, \\\n",
    "         CASE \\\n",
    "             WHEN (`Destination port` = '80'\\\n",
    "                 OR `Destination port` = '6667' \\\n",
    "                 OR `Destination port` = '(empty)' \\\n",
    "                 OR `Destination port` = '21' \\\n",
    "                 OR `Destination port` = '53' \\\n",
    "                 OR `Destination port` = '22' \\\n",
    "                 OR `Destination port` = '137' \\\n",
    "                 OR `Destination port` = '113') \\\n",
    "                 THEN `Destination port` \\\n",
    "             ELSE 'OTHER' \\\n",
    "         END AS port_classification, \\\n",
    "         COUNT(`Date/time`) ct \\\n",
    "         FROM data \\\n",
    "         GROUP BY date_hour, port_classification;\"\n",
    "\n",
    "ports_per_hour = pd.read_sql_query(q, conn)"
   ]
  },
  {
   "cell_type": "code",
   "execution_count": 188,
   "id": "strong-creator",
   "metadata": {},
   "outputs": [],
   "source": [
    "ports = ['80', '6667', '(empty)', '21', '53', '22', '137', '113', 'OTHER']"
   ]
  },
  {
   "cell_type": "code",
   "execution_count": 206,
   "id": "informed-luxembourg",
   "metadata": {},
   "outputs": [
    {
     "data": {
      "text/plain": [
       "[('Teardown',),\n",
       " ('Built',),\n",
       " ('(empty)',),\n",
       " ('Command executed',),\n",
       " ('Deny',),\n",
       " ('Deny by ACL',)]"
      ]
     },
     "execution_count": 206,
     "metadata": {},
     "output_type": "execute_result"
    }
   ],
   "source": [
    "# Get unique operations\n",
    "q = \"SELECT DISTINCT `Operation` \\\n",
    "         FROM data;\"\n",
    "cur.execute(q)\n",
    "decisions = cur.fetchall()\n",
    "decisions"
   ]
  },
  {
   "cell_type": "code",
   "execution_count": null,
   "id": "documentary-dover",
   "metadata": {},
   "outputs": [],
   "source": [
    "# Get unique statuses\n",
    "q = \"SELECT DISTINCT `Syslog Priority` \\\n",
    "         FROM data;\"\n",
    "cur.execute(q)\n",
    "priorities = cur.fetchall()\n",
    "priorities_df = pd.read_sql_query(q, conn)"
   ]
  },
  {
   "cell_type": "code",
   "execution_count": 196,
   "id": "imported-arbitration",
   "metadata": {},
   "outputs": [
    {
     "name": "stdout",
     "output_type": "stream",
     "text": [
      "[('2012-04-05 20:00:00', 190), ('2012-04-05 21:00:00', 157), ('2012-04-05 22:00:00', 60), ('2012-04-05 23:00:00', 95), ('2012-04-06 00:00:00', 24), ('2012-04-06 01:00:00', 8), ('2012-04-06 03:00:00', 4)]\n"
     ]
    }
   ],
   "source": [
    "cur.execute(\"SELECT strftime('%Y-%m-%d %H:00:00', `Date/time`) date_hour, COUNT(`Destination port`) n \\\n",
    "    FROM data \\\n",
    "    WHERE `Destination port` == '22' \\\n",
    "    GROUP BY date_hour\")\n",
    "print(cur.fetchall())"
   ]
  },
  {
   "cell_type": "code",
   "execution_count": 141,
   "id": "greenhouse-holmes",
   "metadata": {},
   "outputs": [
    {
     "data": {
      "text/plain": [
       "date_hour    object\n",
       "priority     object\n",
       "n             int64\n",
       "dtype: object"
      ]
     },
     "execution_count": 141,
     "metadata": {},
     "output_type": "execute_result"
    }
   ],
   "source": [
    "q = \"SELECT strftime('%Y-%m-%d %H:00:00', `Date/time`) date_hour, `Syslog Priority` priority, COUNT(`Date/time`) n \\\n",
    "         FROM data \\\n",
    "         GROUP BY date_hour, `Syslog Priority`;\"\n",
    "cxns_per_hour = pd.read_sql_query(q, conn, parse_dates=[0])"
   ]
  },
  {
   "cell_type": "code",
   "execution_count": 163,
   "id": "voluntary-pierce",
   "metadata": {},
   "outputs": [],
   "source": [
    "cxns_per_hour['date_hour'] = pd.to_datetime(cxns_per_hour['date_hour'])"
   ]
  },
  {
   "cell_type": "code",
   "execution_count": 164,
   "id": "indie-officer",
   "metadata": {},
   "outputs": [],
   "source": [
    "priority_series = pd.Series(np.tile(priorities_df['Syslog priority'].to_numpy(), cxns_per_hour['date_hour'].nunique()))"
   ]
  },
  {
   "cell_type": "code",
   "execution_count": 178,
   "id": "approximate-donor",
   "metadata": {},
   "outputs": [],
   "source": [
    "idx_series = cxns_per_hour[cxns_per_hour['priority'] == 'Info']['date_hour'] \\\n",
    "    .repeat(len(priorities)).reset_index(drop=True)\n",
    "new_df = pd.DataFrame({ 'date_hour': idx_series, 'priority': priority_series })\n",
    "cxns_with_nas = pd.merge(new_df, cxns_per_hour, on=['date_hour', 'priority'], how='left')"
   ]
  },
  {
   "cell_type": "code",
   "execution_count": 200,
   "id": "historic-command",
   "metadata": {},
   "outputs": [
    {
     "data": {
      "application/vnd.plotly.v1+json": {
       "config": {
        "plotlyServerURL": "https://plot.ly"
       },
       "data": [
        {
         "connectgaps": false,
         "name": "Notice",
         "type": "scatter",
         "x": [
          "2012-04-05T17:00:00",
          "2012-04-05T18:00:00",
          "2012-04-05T19:00:00",
          "2012-04-05T20:00:00",
          "2012-04-05T21:00:00",
          "2012-04-05T22:00:00",
          "2012-04-05T23:00:00",
          "2012-04-06T00:00:00",
          "2012-04-06T01:00:00",
          "2012-04-06T02:00:00",
          "2012-04-06T03:00:00",
          "2012-04-06T04:00:00",
          "2012-04-06T05:00:00",
          "2012-04-06T06:00:00",
          "2012-04-06T07:00:00",
          "2012-04-06T08:00:00",
          "2012-04-06T09:00:00",
          "2012-04-06T10:00:00",
          "2012-04-06T11:00:00",
          "2012-04-06T12:00:00",
          "2012-04-06T13:00:00",
          "2012-04-06T14:00:00",
          "2012-04-06T15:00:00",
          "2012-04-06T16:00:00",
          "2012-04-06T17:00:00",
          "2012-04-06T18:00:00",
          "2012-04-06T19:00:00",
          "2012-04-06T20:00:00",
          "2012-04-06T21:00:00",
          "2012-04-06T22:00:00",
          "2012-04-06T23:00:00",
          "2012-04-07T00:00:00",
          "2012-04-07T01:00:00",
          "2012-04-07T02:00:00",
          "2012-04-07T03:00:00",
          "2012-04-07T04:00:00",
          "2012-04-07T05:00:00",
          "2012-04-07T06:00:00",
          "2012-04-07T07:00:00",
          "2012-04-07T08:00:00",
          "2012-04-07T09:00:00"
         ],
         "y": [
          null,
          1,
          null,
          null,
          null,
          null,
          null,
          null,
          null,
          null,
          null,
          null,
          null,
          null,
          null,
          null,
          null,
          null,
          null,
          null,
          null,
          null,
          null,
          null,
          9,
          null,
          null,
          null,
          null,
          null,
          null,
          null,
          null,
          null,
          null,
          null,
          null,
          null,
          null,
          null,
          null
         ]
        },
        {
         "connectgaps": false,
         "name": "Critical",
         "type": "scatter",
         "x": [
          "2012-04-05T17:00:00",
          "2012-04-05T18:00:00",
          "2012-04-05T19:00:00",
          "2012-04-05T20:00:00",
          "2012-04-05T21:00:00",
          "2012-04-05T22:00:00",
          "2012-04-05T23:00:00",
          "2012-04-06T00:00:00",
          "2012-04-06T01:00:00",
          "2012-04-06T02:00:00",
          "2012-04-06T03:00:00",
          "2012-04-06T04:00:00",
          "2012-04-06T05:00:00",
          "2012-04-06T06:00:00",
          "2012-04-06T07:00:00",
          "2012-04-06T08:00:00",
          "2012-04-06T09:00:00",
          "2012-04-06T10:00:00",
          "2012-04-06T11:00:00",
          "2012-04-06T12:00:00",
          "2012-04-06T13:00:00",
          "2012-04-06T14:00:00",
          "2012-04-06T15:00:00",
          "2012-04-06T16:00:00",
          "2012-04-06T17:00:00",
          "2012-04-06T18:00:00",
          "2012-04-06T19:00:00",
          "2012-04-06T20:00:00",
          "2012-04-06T21:00:00",
          "2012-04-06T22:00:00",
          "2012-04-06T23:00:00",
          "2012-04-07T00:00:00",
          "2012-04-07T01:00:00",
          "2012-04-07T02:00:00",
          "2012-04-07T03:00:00",
          "2012-04-07T04:00:00",
          "2012-04-07T05:00:00",
          "2012-04-07T06:00:00",
          "2012-04-07T07:00:00",
          "2012-04-07T08:00:00",
          "2012-04-07T09:00:00"
         ],
         "y": [
          null,
          null,
          null,
          74,
          125,
          225,
          392,
          572,
          854,
          850,
          879,
          999,
          989,
          843,
          850,
          1027,
          1028,
          1060,
          810,
          946,
          1011,
          1357,
          1469,
          1346,
          499,
          631,
          840,
          822,
          1019,
          944,
          1001,
          996,
          948,
          985,
          988,
          1032,
          985,
          928,
          1035,
          1062,
          null
         ]
        },
        {
         "connectgaps": false,
         "name": "Warning",
         "type": "scatter",
         "x": [
          "2012-04-05T17:00:00",
          "2012-04-05T18:00:00",
          "2012-04-05T19:00:00",
          "2012-04-05T20:00:00",
          "2012-04-05T21:00:00",
          "2012-04-05T22:00:00",
          "2012-04-05T23:00:00",
          "2012-04-06T00:00:00",
          "2012-04-06T01:00:00",
          "2012-04-06T02:00:00",
          "2012-04-06T03:00:00",
          "2012-04-06T04:00:00",
          "2012-04-06T05:00:00",
          "2012-04-06T06:00:00",
          "2012-04-06T07:00:00",
          "2012-04-06T08:00:00",
          "2012-04-06T09:00:00",
          "2012-04-06T10:00:00",
          "2012-04-06T11:00:00",
          "2012-04-06T12:00:00",
          "2012-04-06T13:00:00",
          "2012-04-06T14:00:00",
          "2012-04-06T15:00:00",
          "2012-04-06T16:00:00",
          "2012-04-06T17:00:00",
          "2012-04-06T18:00:00",
          "2012-04-06T19:00:00",
          "2012-04-06T20:00:00",
          "2012-04-06T21:00:00",
          "2012-04-06T22:00:00",
          "2012-04-06T23:00:00",
          "2012-04-07T00:00:00",
          "2012-04-07T01:00:00",
          "2012-04-07T02:00:00",
          "2012-04-07T03:00:00",
          "2012-04-07T04:00:00",
          "2012-04-07T05:00:00",
          "2012-04-07T06:00:00",
          "2012-04-07T07:00:00",
          "2012-04-07T08:00:00",
          "2012-04-07T09:00:00"
         ],
         "y": [
          null,
          null,
          null,
          462,
          231,
          9,
          45,
          171,
          null,
          null,
          null,
          null,
          null,
          null,
          null,
          null,
          null,
          null,
          null,
          null,
          null,
          null,
          null,
          null,
          null,
          907,
          null,
          null,
          2,
          null,
          null,
          null,
          null,
          null,
          null,
          null,
          null,
          null,
          null,
          null,
          null
         ]
        },
        {
         "connectgaps": false,
         "name": "Error",
         "type": "scatter",
         "x": [
          "2012-04-05T17:00:00",
          "2012-04-05T18:00:00",
          "2012-04-05T19:00:00",
          "2012-04-05T20:00:00",
          "2012-04-05T21:00:00",
          "2012-04-05T22:00:00",
          "2012-04-05T23:00:00",
          "2012-04-06T00:00:00",
          "2012-04-06T01:00:00",
          "2012-04-06T02:00:00",
          "2012-04-06T03:00:00",
          "2012-04-06T04:00:00",
          "2012-04-06T05:00:00",
          "2012-04-06T06:00:00",
          "2012-04-06T07:00:00",
          "2012-04-06T08:00:00",
          "2012-04-06T09:00:00",
          "2012-04-06T10:00:00",
          "2012-04-06T11:00:00",
          "2012-04-06T12:00:00",
          "2012-04-06T13:00:00",
          "2012-04-06T14:00:00",
          "2012-04-06T15:00:00",
          "2012-04-06T16:00:00",
          "2012-04-06T17:00:00",
          "2012-04-06T18:00:00",
          "2012-04-06T19:00:00",
          "2012-04-06T20:00:00",
          "2012-04-06T21:00:00",
          "2012-04-06T22:00:00",
          "2012-04-06T23:00:00",
          "2012-04-07T00:00:00",
          "2012-04-07T01:00:00",
          "2012-04-07T02:00:00",
          "2012-04-07T03:00:00",
          "2012-04-07T04:00:00",
          "2012-04-07T05:00:00",
          "2012-04-07T06:00:00",
          "2012-04-07T07:00:00",
          "2012-04-07T08:00:00",
          "2012-04-07T09:00:00"
         ],
         "y": [
          null,
          null,
          null,
          null,
          10,
          null,
          18,
          122,
          40,
          null,
          20,
          null,
          null,
          null,
          null,
          null,
          null,
          null,
          null,
          null,
          null,
          null,
          null,
          null,
          4,
          12,
          9,
          11,
          9,
          15,
          12,
          6,
          11,
          5,
          12,
          17,
          13,
          13,
          9,
          8,
          null
         ]
        }
       ],
       "layout": {
        "template": {
         "data": {
          "bar": [
           {
            "error_x": {
             "color": "#2a3f5f"
            },
            "error_y": {
             "color": "#2a3f5f"
            },
            "marker": {
             "line": {
              "color": "#E5ECF6",
              "width": 0.5
             }
            },
            "type": "bar"
           }
          ],
          "barpolar": [
           {
            "marker": {
             "line": {
              "color": "#E5ECF6",
              "width": 0.5
             }
            },
            "type": "barpolar"
           }
          ],
          "carpet": [
           {
            "aaxis": {
             "endlinecolor": "#2a3f5f",
             "gridcolor": "white",
             "linecolor": "white",
             "minorgridcolor": "white",
             "startlinecolor": "#2a3f5f"
            },
            "baxis": {
             "endlinecolor": "#2a3f5f",
             "gridcolor": "white",
             "linecolor": "white",
             "minorgridcolor": "white",
             "startlinecolor": "#2a3f5f"
            },
            "type": "carpet"
           }
          ],
          "choropleth": [
           {
            "colorbar": {
             "outlinewidth": 0,
             "ticks": ""
            },
            "type": "choropleth"
           }
          ],
          "contour": [
           {
            "colorbar": {
             "outlinewidth": 0,
             "ticks": ""
            },
            "colorscale": [
             [
              0,
              "#0d0887"
             ],
             [
              0.1111111111111111,
              "#46039f"
             ],
             [
              0.2222222222222222,
              "#7201a8"
             ],
             [
              0.3333333333333333,
              "#9c179e"
             ],
             [
              0.4444444444444444,
              "#bd3786"
             ],
             [
              0.5555555555555556,
              "#d8576b"
             ],
             [
              0.6666666666666666,
              "#ed7953"
             ],
             [
              0.7777777777777778,
              "#fb9f3a"
             ],
             [
              0.8888888888888888,
              "#fdca26"
             ],
             [
              1,
              "#f0f921"
             ]
            ],
            "type": "contour"
           }
          ],
          "contourcarpet": [
           {
            "colorbar": {
             "outlinewidth": 0,
             "ticks": ""
            },
            "type": "contourcarpet"
           }
          ],
          "heatmap": [
           {
            "colorbar": {
             "outlinewidth": 0,
             "ticks": ""
            },
            "colorscale": [
             [
              0,
              "#0d0887"
             ],
             [
              0.1111111111111111,
              "#46039f"
             ],
             [
              0.2222222222222222,
              "#7201a8"
             ],
             [
              0.3333333333333333,
              "#9c179e"
             ],
             [
              0.4444444444444444,
              "#bd3786"
             ],
             [
              0.5555555555555556,
              "#d8576b"
             ],
             [
              0.6666666666666666,
              "#ed7953"
             ],
             [
              0.7777777777777778,
              "#fb9f3a"
             ],
             [
              0.8888888888888888,
              "#fdca26"
             ],
             [
              1,
              "#f0f921"
             ]
            ],
            "type": "heatmap"
           }
          ],
          "heatmapgl": [
           {
            "colorbar": {
             "outlinewidth": 0,
             "ticks": ""
            },
            "colorscale": [
             [
              0,
              "#0d0887"
             ],
             [
              0.1111111111111111,
              "#46039f"
             ],
             [
              0.2222222222222222,
              "#7201a8"
             ],
             [
              0.3333333333333333,
              "#9c179e"
             ],
             [
              0.4444444444444444,
              "#bd3786"
             ],
             [
              0.5555555555555556,
              "#d8576b"
             ],
             [
              0.6666666666666666,
              "#ed7953"
             ],
             [
              0.7777777777777778,
              "#fb9f3a"
             ],
             [
              0.8888888888888888,
              "#fdca26"
             ],
             [
              1,
              "#f0f921"
             ]
            ],
            "type": "heatmapgl"
           }
          ],
          "histogram": [
           {
            "marker": {
             "colorbar": {
              "outlinewidth": 0,
              "ticks": ""
             }
            },
            "type": "histogram"
           }
          ],
          "histogram2d": [
           {
            "colorbar": {
             "outlinewidth": 0,
             "ticks": ""
            },
            "colorscale": [
             [
              0,
              "#0d0887"
             ],
             [
              0.1111111111111111,
              "#46039f"
             ],
             [
              0.2222222222222222,
              "#7201a8"
             ],
             [
              0.3333333333333333,
              "#9c179e"
             ],
             [
              0.4444444444444444,
              "#bd3786"
             ],
             [
              0.5555555555555556,
              "#d8576b"
             ],
             [
              0.6666666666666666,
              "#ed7953"
             ],
             [
              0.7777777777777778,
              "#fb9f3a"
             ],
             [
              0.8888888888888888,
              "#fdca26"
             ],
             [
              1,
              "#f0f921"
             ]
            ],
            "type": "histogram2d"
           }
          ],
          "histogram2dcontour": [
           {
            "colorbar": {
             "outlinewidth": 0,
             "ticks": ""
            },
            "colorscale": [
             [
              0,
              "#0d0887"
             ],
             [
              0.1111111111111111,
              "#46039f"
             ],
             [
              0.2222222222222222,
              "#7201a8"
             ],
             [
              0.3333333333333333,
              "#9c179e"
             ],
             [
              0.4444444444444444,
              "#bd3786"
             ],
             [
              0.5555555555555556,
              "#d8576b"
             ],
             [
              0.6666666666666666,
              "#ed7953"
             ],
             [
              0.7777777777777778,
              "#fb9f3a"
             ],
             [
              0.8888888888888888,
              "#fdca26"
             ],
             [
              1,
              "#f0f921"
             ]
            ],
            "type": "histogram2dcontour"
           }
          ],
          "mesh3d": [
           {
            "colorbar": {
             "outlinewidth": 0,
             "ticks": ""
            },
            "type": "mesh3d"
           }
          ],
          "parcoords": [
           {
            "line": {
             "colorbar": {
              "outlinewidth": 0,
              "ticks": ""
             }
            },
            "type": "parcoords"
           }
          ],
          "pie": [
           {
            "automargin": true,
            "type": "pie"
           }
          ],
          "scatter": [
           {
            "marker": {
             "colorbar": {
              "outlinewidth": 0,
              "ticks": ""
             }
            },
            "type": "scatter"
           }
          ],
          "scatter3d": [
           {
            "line": {
             "colorbar": {
              "outlinewidth": 0,
              "ticks": ""
             }
            },
            "marker": {
             "colorbar": {
              "outlinewidth": 0,
              "ticks": ""
             }
            },
            "type": "scatter3d"
           }
          ],
          "scattercarpet": [
           {
            "marker": {
             "colorbar": {
              "outlinewidth": 0,
              "ticks": ""
             }
            },
            "type": "scattercarpet"
           }
          ],
          "scattergeo": [
           {
            "marker": {
             "colorbar": {
              "outlinewidth": 0,
              "ticks": ""
             }
            },
            "type": "scattergeo"
           }
          ],
          "scattergl": [
           {
            "marker": {
             "colorbar": {
              "outlinewidth": 0,
              "ticks": ""
             }
            },
            "type": "scattergl"
           }
          ],
          "scattermapbox": [
           {
            "marker": {
             "colorbar": {
              "outlinewidth": 0,
              "ticks": ""
             }
            },
            "type": "scattermapbox"
           }
          ],
          "scatterpolar": [
           {
            "marker": {
             "colorbar": {
              "outlinewidth": 0,
              "ticks": ""
             }
            },
            "type": "scatterpolar"
           }
          ],
          "scatterpolargl": [
           {
            "marker": {
             "colorbar": {
              "outlinewidth": 0,
              "ticks": ""
             }
            },
            "type": "scatterpolargl"
           }
          ],
          "scatterternary": [
           {
            "marker": {
             "colorbar": {
              "outlinewidth": 0,
              "ticks": ""
             }
            },
            "type": "scatterternary"
           }
          ],
          "surface": [
           {
            "colorbar": {
             "outlinewidth": 0,
             "ticks": ""
            },
            "colorscale": [
             [
              0,
              "#0d0887"
             ],
             [
              0.1111111111111111,
              "#46039f"
             ],
             [
              0.2222222222222222,
              "#7201a8"
             ],
             [
              0.3333333333333333,
              "#9c179e"
             ],
             [
              0.4444444444444444,
              "#bd3786"
             ],
             [
              0.5555555555555556,
              "#d8576b"
             ],
             [
              0.6666666666666666,
              "#ed7953"
             ],
             [
              0.7777777777777778,
              "#fb9f3a"
             ],
             [
              0.8888888888888888,
              "#fdca26"
             ],
             [
              1,
              "#f0f921"
             ]
            ],
            "type": "surface"
           }
          ],
          "table": [
           {
            "cells": {
             "fill": {
              "color": "#EBF0F8"
             },
             "line": {
              "color": "white"
             }
            },
            "header": {
             "fill": {
              "color": "#C8D4E3"
             },
             "line": {
              "color": "white"
             }
            },
            "type": "table"
           }
          ]
         },
         "layout": {
          "annotationdefaults": {
           "arrowcolor": "#2a3f5f",
           "arrowhead": 0,
           "arrowwidth": 1
          },
          "autotypenumbers": "strict",
          "coloraxis": {
           "colorbar": {
            "outlinewidth": 0,
            "ticks": ""
           }
          },
          "colorscale": {
           "diverging": [
            [
             0,
             "#8e0152"
            ],
            [
             0.1,
             "#c51b7d"
            ],
            [
             0.2,
             "#de77ae"
            ],
            [
             0.3,
             "#f1b6da"
            ],
            [
             0.4,
             "#fde0ef"
            ],
            [
             0.5,
             "#f7f7f7"
            ],
            [
             0.6,
             "#e6f5d0"
            ],
            [
             0.7,
             "#b8e186"
            ],
            [
             0.8,
             "#7fbc41"
            ],
            [
             0.9,
             "#4d9221"
            ],
            [
             1,
             "#276419"
            ]
           ],
           "sequential": [
            [
             0,
             "#0d0887"
            ],
            [
             0.1111111111111111,
             "#46039f"
            ],
            [
             0.2222222222222222,
             "#7201a8"
            ],
            [
             0.3333333333333333,
             "#9c179e"
            ],
            [
             0.4444444444444444,
             "#bd3786"
            ],
            [
             0.5555555555555556,
             "#d8576b"
            ],
            [
             0.6666666666666666,
             "#ed7953"
            ],
            [
             0.7777777777777778,
             "#fb9f3a"
            ],
            [
             0.8888888888888888,
             "#fdca26"
            ],
            [
             1,
             "#f0f921"
            ]
           ],
           "sequentialminus": [
            [
             0,
             "#0d0887"
            ],
            [
             0.1111111111111111,
             "#46039f"
            ],
            [
             0.2222222222222222,
             "#7201a8"
            ],
            [
             0.3333333333333333,
             "#9c179e"
            ],
            [
             0.4444444444444444,
             "#bd3786"
            ],
            [
             0.5555555555555556,
             "#d8576b"
            ],
            [
             0.6666666666666666,
             "#ed7953"
            ],
            [
             0.7777777777777778,
             "#fb9f3a"
            ],
            [
             0.8888888888888888,
             "#fdca26"
            ],
            [
             1,
             "#f0f921"
            ]
           ]
          },
          "colorway": [
           "#636efa",
           "#EF553B",
           "#00cc96",
           "#ab63fa",
           "#FFA15A",
           "#19d3f3",
           "#FF6692",
           "#B6E880",
           "#FF97FF",
           "#FECB52"
          ],
          "font": {
           "color": "#2a3f5f"
          },
          "geo": {
           "bgcolor": "white",
           "lakecolor": "white",
           "landcolor": "#E5ECF6",
           "showlakes": true,
           "showland": true,
           "subunitcolor": "white"
          },
          "hoverlabel": {
           "align": "left"
          },
          "hovermode": "closest",
          "mapbox": {
           "style": "light"
          },
          "paper_bgcolor": "white",
          "plot_bgcolor": "#E5ECF6",
          "polar": {
           "angularaxis": {
            "gridcolor": "white",
            "linecolor": "white",
            "ticks": ""
           },
           "bgcolor": "#E5ECF6",
           "radialaxis": {
            "gridcolor": "white",
            "linecolor": "white",
            "ticks": ""
           }
          },
          "scene": {
           "xaxis": {
            "backgroundcolor": "#E5ECF6",
            "gridcolor": "white",
            "gridwidth": 2,
            "linecolor": "white",
            "showbackground": true,
            "ticks": "",
            "zerolinecolor": "white"
           },
           "yaxis": {
            "backgroundcolor": "#E5ECF6",
            "gridcolor": "white",
            "gridwidth": 2,
            "linecolor": "white",
            "showbackground": true,
            "ticks": "",
            "zerolinecolor": "white"
           },
           "zaxis": {
            "backgroundcolor": "#E5ECF6",
            "gridcolor": "white",
            "gridwidth": 2,
            "linecolor": "white",
            "showbackground": true,
            "ticks": "",
            "zerolinecolor": "white"
           }
          },
          "shapedefaults": {
           "line": {
            "color": "#2a3f5f"
           }
          },
          "ternary": {
           "aaxis": {
            "gridcolor": "white",
            "linecolor": "white",
            "ticks": ""
           },
           "baxis": {
            "gridcolor": "white",
            "linecolor": "white",
            "ticks": ""
           },
           "bgcolor": "#E5ECF6",
           "caxis": {
            "gridcolor": "white",
            "linecolor": "white",
            "ticks": ""
           }
          },
          "title": {
           "x": 0.05
          },
          "xaxis": {
           "automargin": true,
           "gridcolor": "white",
           "linecolor": "white",
           "ticks": "",
           "title": {
            "standoff": 15
           },
           "zerolinecolor": "white",
           "zerolinewidth": 2
          },
          "yaxis": {
           "automargin": true,
           "gridcolor": "white",
           "linecolor": "white",
           "ticks": "",
           "title": {
            "standoff": 15
           },
           "zerolinecolor": "white",
           "zerolinewidth": 2
          }
         }
        }
       }
      },
      "text/html": [
       "<div>                            <div id=\"0c50e3cf-5c69-498f-a961-c0bbd491a32a\" class=\"plotly-graph-div\" style=\"height:525px; width:100%;\"></div>            <script type=\"text/javascript\">                require([\"plotly\"], function(Plotly) {                    window.PLOTLYENV=window.PLOTLYENV || {};                                    if (document.getElementById(\"0c50e3cf-5c69-498f-a961-c0bbd491a32a\")) {                    Plotly.newPlot(                        \"0c50e3cf-5c69-498f-a961-c0bbd491a32a\",                        [{\"connectgaps\": false, \"name\": \"Notice\", \"type\": \"scatter\", \"x\": [\"2012-04-05T17:00:00\", \"2012-04-05T18:00:00\", \"2012-04-05T19:00:00\", \"2012-04-05T20:00:00\", \"2012-04-05T21:00:00\", \"2012-04-05T22:00:00\", \"2012-04-05T23:00:00\", \"2012-04-06T00:00:00\", \"2012-04-06T01:00:00\", \"2012-04-06T02:00:00\", \"2012-04-06T03:00:00\", \"2012-04-06T04:00:00\", \"2012-04-06T05:00:00\", \"2012-04-06T06:00:00\", \"2012-04-06T07:00:00\", \"2012-04-06T08:00:00\", \"2012-04-06T09:00:00\", \"2012-04-06T10:00:00\", \"2012-04-06T11:00:00\", \"2012-04-06T12:00:00\", \"2012-04-06T13:00:00\", \"2012-04-06T14:00:00\", \"2012-04-06T15:00:00\", \"2012-04-06T16:00:00\", \"2012-04-06T17:00:00\", \"2012-04-06T18:00:00\", \"2012-04-06T19:00:00\", \"2012-04-06T20:00:00\", \"2012-04-06T21:00:00\", \"2012-04-06T22:00:00\", \"2012-04-06T23:00:00\", \"2012-04-07T00:00:00\", \"2012-04-07T01:00:00\", \"2012-04-07T02:00:00\", \"2012-04-07T03:00:00\", \"2012-04-07T04:00:00\", \"2012-04-07T05:00:00\", \"2012-04-07T06:00:00\", \"2012-04-07T07:00:00\", \"2012-04-07T08:00:00\", \"2012-04-07T09:00:00\"], \"y\": [null, 1.0, null, null, null, null, null, null, null, null, null, null, null, null, null, null, null, null, null, null, null, null, null, null, 9.0, null, null, null, null, null, null, null, null, null, null, null, null, null, null, null, null]}, {\"connectgaps\": false, \"name\": \"Critical\", \"type\": \"scatter\", \"x\": [\"2012-04-05T17:00:00\", \"2012-04-05T18:00:00\", \"2012-04-05T19:00:00\", \"2012-04-05T20:00:00\", \"2012-04-05T21:00:00\", \"2012-04-05T22:00:00\", \"2012-04-05T23:00:00\", \"2012-04-06T00:00:00\", \"2012-04-06T01:00:00\", \"2012-04-06T02:00:00\", \"2012-04-06T03:00:00\", \"2012-04-06T04:00:00\", \"2012-04-06T05:00:00\", \"2012-04-06T06:00:00\", \"2012-04-06T07:00:00\", \"2012-04-06T08:00:00\", \"2012-04-06T09:00:00\", \"2012-04-06T10:00:00\", \"2012-04-06T11:00:00\", \"2012-04-06T12:00:00\", \"2012-04-06T13:00:00\", \"2012-04-06T14:00:00\", \"2012-04-06T15:00:00\", \"2012-04-06T16:00:00\", \"2012-04-06T17:00:00\", \"2012-04-06T18:00:00\", \"2012-04-06T19:00:00\", \"2012-04-06T20:00:00\", \"2012-04-06T21:00:00\", \"2012-04-06T22:00:00\", \"2012-04-06T23:00:00\", \"2012-04-07T00:00:00\", \"2012-04-07T01:00:00\", \"2012-04-07T02:00:00\", \"2012-04-07T03:00:00\", \"2012-04-07T04:00:00\", \"2012-04-07T05:00:00\", \"2012-04-07T06:00:00\", \"2012-04-07T07:00:00\", \"2012-04-07T08:00:00\", \"2012-04-07T09:00:00\"], \"y\": [null, null, null, 74.0, 125.0, 225.0, 392.0, 572.0, 854.0, 850.0, 879.0, 999.0, 989.0, 843.0, 850.0, 1027.0, 1028.0, 1060.0, 810.0, 946.0, 1011.0, 1357.0, 1469.0, 1346.0, 499.0, 631.0, 840.0, 822.0, 1019.0, 944.0, 1001.0, 996.0, 948.0, 985.0, 988.0, 1032.0, 985.0, 928.0, 1035.0, 1062.0, null]}, {\"connectgaps\": false, \"name\": \"Warning\", \"type\": \"scatter\", \"x\": [\"2012-04-05T17:00:00\", \"2012-04-05T18:00:00\", \"2012-04-05T19:00:00\", \"2012-04-05T20:00:00\", \"2012-04-05T21:00:00\", \"2012-04-05T22:00:00\", \"2012-04-05T23:00:00\", \"2012-04-06T00:00:00\", \"2012-04-06T01:00:00\", \"2012-04-06T02:00:00\", \"2012-04-06T03:00:00\", \"2012-04-06T04:00:00\", \"2012-04-06T05:00:00\", \"2012-04-06T06:00:00\", \"2012-04-06T07:00:00\", \"2012-04-06T08:00:00\", \"2012-04-06T09:00:00\", \"2012-04-06T10:00:00\", \"2012-04-06T11:00:00\", \"2012-04-06T12:00:00\", \"2012-04-06T13:00:00\", \"2012-04-06T14:00:00\", \"2012-04-06T15:00:00\", \"2012-04-06T16:00:00\", \"2012-04-06T17:00:00\", \"2012-04-06T18:00:00\", \"2012-04-06T19:00:00\", \"2012-04-06T20:00:00\", \"2012-04-06T21:00:00\", \"2012-04-06T22:00:00\", \"2012-04-06T23:00:00\", \"2012-04-07T00:00:00\", \"2012-04-07T01:00:00\", \"2012-04-07T02:00:00\", \"2012-04-07T03:00:00\", \"2012-04-07T04:00:00\", \"2012-04-07T05:00:00\", \"2012-04-07T06:00:00\", \"2012-04-07T07:00:00\", \"2012-04-07T08:00:00\", \"2012-04-07T09:00:00\"], \"y\": [null, null, null, 462.0, 231.0, 9.0, 45.0, 171.0, null, null, null, null, null, null, null, null, null, null, null, null, null, null, null, null, null, 907.0, null, null, 2.0, null, null, null, null, null, null, null, null, null, null, null, null]}, {\"connectgaps\": false, \"name\": \"Error\", \"type\": \"scatter\", \"x\": [\"2012-04-05T17:00:00\", \"2012-04-05T18:00:00\", \"2012-04-05T19:00:00\", \"2012-04-05T20:00:00\", \"2012-04-05T21:00:00\", \"2012-04-05T22:00:00\", \"2012-04-05T23:00:00\", \"2012-04-06T00:00:00\", \"2012-04-06T01:00:00\", \"2012-04-06T02:00:00\", \"2012-04-06T03:00:00\", \"2012-04-06T04:00:00\", \"2012-04-06T05:00:00\", \"2012-04-06T06:00:00\", \"2012-04-06T07:00:00\", \"2012-04-06T08:00:00\", \"2012-04-06T09:00:00\", \"2012-04-06T10:00:00\", \"2012-04-06T11:00:00\", \"2012-04-06T12:00:00\", \"2012-04-06T13:00:00\", \"2012-04-06T14:00:00\", \"2012-04-06T15:00:00\", \"2012-04-06T16:00:00\", \"2012-04-06T17:00:00\", \"2012-04-06T18:00:00\", \"2012-04-06T19:00:00\", \"2012-04-06T20:00:00\", \"2012-04-06T21:00:00\", \"2012-04-06T22:00:00\", \"2012-04-06T23:00:00\", \"2012-04-07T00:00:00\", \"2012-04-07T01:00:00\", \"2012-04-07T02:00:00\", \"2012-04-07T03:00:00\", \"2012-04-07T04:00:00\", \"2012-04-07T05:00:00\", \"2012-04-07T06:00:00\", \"2012-04-07T07:00:00\", \"2012-04-07T08:00:00\", \"2012-04-07T09:00:00\"], \"y\": [null, null, null, null, 10.0, null, 18.0, 122.0, 40.0, null, 20.0, null, null, null, null, null, null, null, null, null, null, null, null, null, 4.0, 12.0, 9.0, 11.0, 9.0, 15.0, 12.0, 6.0, 11.0, 5.0, 12.0, 17.0, 13.0, 13.0, 9.0, 8.0, null]}],                        {\"template\": {\"data\": {\"bar\": [{\"error_x\": {\"color\": \"#2a3f5f\"}, \"error_y\": {\"color\": \"#2a3f5f\"}, \"marker\": {\"line\": {\"color\": \"#E5ECF6\", \"width\": 0.5}}, \"type\": \"bar\"}], \"barpolar\": [{\"marker\": {\"line\": {\"color\": \"#E5ECF6\", \"width\": 0.5}}, \"type\": \"barpolar\"}], \"carpet\": [{\"aaxis\": {\"endlinecolor\": \"#2a3f5f\", \"gridcolor\": \"white\", \"linecolor\": \"white\", \"minorgridcolor\": \"white\", \"startlinecolor\": \"#2a3f5f\"}, \"baxis\": {\"endlinecolor\": \"#2a3f5f\", \"gridcolor\": \"white\", \"linecolor\": \"white\", \"minorgridcolor\": \"white\", \"startlinecolor\": \"#2a3f5f\"}, \"type\": \"carpet\"}], \"choropleth\": [{\"colorbar\": {\"outlinewidth\": 0, \"ticks\": \"\"}, \"type\": \"choropleth\"}], \"contour\": [{\"colorbar\": {\"outlinewidth\": 0, \"ticks\": \"\"}, \"colorscale\": [[0.0, \"#0d0887\"], [0.1111111111111111, \"#46039f\"], [0.2222222222222222, \"#7201a8\"], [0.3333333333333333, \"#9c179e\"], [0.4444444444444444, \"#bd3786\"], [0.5555555555555556, \"#d8576b\"], [0.6666666666666666, \"#ed7953\"], [0.7777777777777778, \"#fb9f3a\"], [0.8888888888888888, \"#fdca26\"], [1.0, \"#f0f921\"]], \"type\": \"contour\"}], \"contourcarpet\": [{\"colorbar\": {\"outlinewidth\": 0, \"ticks\": \"\"}, \"type\": \"contourcarpet\"}], \"heatmap\": [{\"colorbar\": {\"outlinewidth\": 0, \"ticks\": \"\"}, \"colorscale\": [[0.0, \"#0d0887\"], [0.1111111111111111, \"#46039f\"], [0.2222222222222222, \"#7201a8\"], [0.3333333333333333, \"#9c179e\"], [0.4444444444444444, \"#bd3786\"], [0.5555555555555556, \"#d8576b\"], [0.6666666666666666, \"#ed7953\"], [0.7777777777777778, \"#fb9f3a\"], [0.8888888888888888, \"#fdca26\"], [1.0, \"#f0f921\"]], \"type\": \"heatmap\"}], \"heatmapgl\": [{\"colorbar\": {\"outlinewidth\": 0, \"ticks\": \"\"}, \"colorscale\": [[0.0, \"#0d0887\"], [0.1111111111111111, \"#46039f\"], [0.2222222222222222, \"#7201a8\"], [0.3333333333333333, \"#9c179e\"], [0.4444444444444444, \"#bd3786\"], [0.5555555555555556, \"#d8576b\"], [0.6666666666666666, \"#ed7953\"], [0.7777777777777778, \"#fb9f3a\"], [0.8888888888888888, \"#fdca26\"], [1.0, \"#f0f921\"]], \"type\": \"heatmapgl\"}], \"histogram\": [{\"marker\": {\"colorbar\": {\"outlinewidth\": 0, \"ticks\": \"\"}}, \"type\": \"histogram\"}], \"histogram2d\": [{\"colorbar\": {\"outlinewidth\": 0, \"ticks\": \"\"}, \"colorscale\": [[0.0, \"#0d0887\"], [0.1111111111111111, \"#46039f\"], [0.2222222222222222, \"#7201a8\"], [0.3333333333333333, \"#9c179e\"], [0.4444444444444444, \"#bd3786\"], [0.5555555555555556, \"#d8576b\"], [0.6666666666666666, \"#ed7953\"], [0.7777777777777778, \"#fb9f3a\"], [0.8888888888888888, \"#fdca26\"], [1.0, \"#f0f921\"]], \"type\": \"histogram2d\"}], \"histogram2dcontour\": [{\"colorbar\": {\"outlinewidth\": 0, \"ticks\": \"\"}, \"colorscale\": [[0.0, \"#0d0887\"], [0.1111111111111111, \"#46039f\"], [0.2222222222222222, \"#7201a8\"], [0.3333333333333333, \"#9c179e\"], [0.4444444444444444, \"#bd3786\"], [0.5555555555555556, \"#d8576b\"], [0.6666666666666666, \"#ed7953\"], [0.7777777777777778, \"#fb9f3a\"], [0.8888888888888888, \"#fdca26\"], [1.0, \"#f0f921\"]], \"type\": \"histogram2dcontour\"}], \"mesh3d\": [{\"colorbar\": {\"outlinewidth\": 0, \"ticks\": \"\"}, \"type\": \"mesh3d\"}], \"parcoords\": [{\"line\": {\"colorbar\": {\"outlinewidth\": 0, \"ticks\": \"\"}}, \"type\": \"parcoords\"}], \"pie\": [{\"automargin\": true, \"type\": \"pie\"}], \"scatter\": [{\"marker\": {\"colorbar\": {\"outlinewidth\": 0, \"ticks\": \"\"}}, \"type\": \"scatter\"}], \"scatter3d\": [{\"line\": {\"colorbar\": {\"outlinewidth\": 0, \"ticks\": \"\"}}, \"marker\": {\"colorbar\": {\"outlinewidth\": 0, \"ticks\": \"\"}}, \"type\": \"scatter3d\"}], \"scattercarpet\": [{\"marker\": {\"colorbar\": {\"outlinewidth\": 0, \"ticks\": \"\"}}, \"type\": \"scattercarpet\"}], \"scattergeo\": [{\"marker\": {\"colorbar\": {\"outlinewidth\": 0, \"ticks\": \"\"}}, \"type\": \"scattergeo\"}], \"scattergl\": [{\"marker\": {\"colorbar\": {\"outlinewidth\": 0, \"ticks\": \"\"}}, \"type\": \"scattergl\"}], \"scattermapbox\": [{\"marker\": {\"colorbar\": {\"outlinewidth\": 0, \"ticks\": \"\"}}, \"type\": \"scattermapbox\"}], \"scatterpolar\": [{\"marker\": {\"colorbar\": {\"outlinewidth\": 0, \"ticks\": \"\"}}, \"type\": \"scatterpolar\"}], \"scatterpolargl\": [{\"marker\": {\"colorbar\": {\"outlinewidth\": 0, \"ticks\": \"\"}}, \"type\": \"scatterpolargl\"}], \"scatterternary\": [{\"marker\": {\"colorbar\": {\"outlinewidth\": 0, \"ticks\": \"\"}}, \"type\": \"scatterternary\"}], \"surface\": [{\"colorbar\": {\"outlinewidth\": 0, \"ticks\": \"\"}, \"colorscale\": [[0.0, \"#0d0887\"], [0.1111111111111111, \"#46039f\"], [0.2222222222222222, \"#7201a8\"], [0.3333333333333333, \"#9c179e\"], [0.4444444444444444, \"#bd3786\"], [0.5555555555555556, \"#d8576b\"], [0.6666666666666666, \"#ed7953\"], [0.7777777777777778, \"#fb9f3a\"], [0.8888888888888888, \"#fdca26\"], [1.0, \"#f0f921\"]], \"type\": \"surface\"}], \"table\": [{\"cells\": {\"fill\": {\"color\": \"#EBF0F8\"}, \"line\": {\"color\": \"white\"}}, \"header\": {\"fill\": {\"color\": \"#C8D4E3\"}, \"line\": {\"color\": \"white\"}}, \"type\": \"table\"}]}, \"layout\": {\"annotationdefaults\": {\"arrowcolor\": \"#2a3f5f\", \"arrowhead\": 0, \"arrowwidth\": 1}, \"autotypenumbers\": \"strict\", \"coloraxis\": {\"colorbar\": {\"outlinewidth\": 0, \"ticks\": \"\"}}, \"colorscale\": {\"diverging\": [[0, \"#8e0152\"], [0.1, \"#c51b7d\"], [0.2, \"#de77ae\"], [0.3, \"#f1b6da\"], [0.4, \"#fde0ef\"], [0.5, \"#f7f7f7\"], [0.6, \"#e6f5d0\"], [0.7, \"#b8e186\"], [0.8, \"#7fbc41\"], [0.9, \"#4d9221\"], [1, \"#276419\"]], \"sequential\": [[0.0, \"#0d0887\"], [0.1111111111111111, \"#46039f\"], [0.2222222222222222, \"#7201a8\"], [0.3333333333333333, \"#9c179e\"], [0.4444444444444444, \"#bd3786\"], [0.5555555555555556, \"#d8576b\"], [0.6666666666666666, \"#ed7953\"], [0.7777777777777778, \"#fb9f3a\"], [0.8888888888888888, \"#fdca26\"], [1.0, \"#f0f921\"]], \"sequentialminus\": [[0.0, \"#0d0887\"], [0.1111111111111111, \"#46039f\"], [0.2222222222222222, \"#7201a8\"], [0.3333333333333333, \"#9c179e\"], [0.4444444444444444, \"#bd3786\"], [0.5555555555555556, \"#d8576b\"], [0.6666666666666666, \"#ed7953\"], [0.7777777777777778, \"#fb9f3a\"], [0.8888888888888888, \"#fdca26\"], [1.0, \"#f0f921\"]]}, \"colorway\": [\"#636efa\", \"#EF553B\", \"#00cc96\", \"#ab63fa\", \"#FFA15A\", \"#19d3f3\", \"#FF6692\", \"#B6E880\", \"#FF97FF\", \"#FECB52\"], \"font\": {\"color\": \"#2a3f5f\"}, \"geo\": {\"bgcolor\": \"white\", \"lakecolor\": \"white\", \"landcolor\": \"#E5ECF6\", \"showlakes\": true, \"showland\": true, \"subunitcolor\": \"white\"}, \"hoverlabel\": {\"align\": \"left\"}, \"hovermode\": \"closest\", \"mapbox\": {\"style\": \"light\"}, \"paper_bgcolor\": \"white\", \"plot_bgcolor\": \"#E5ECF6\", \"polar\": {\"angularaxis\": {\"gridcolor\": \"white\", \"linecolor\": \"white\", \"ticks\": \"\"}, \"bgcolor\": \"#E5ECF6\", \"radialaxis\": {\"gridcolor\": \"white\", \"linecolor\": \"white\", \"ticks\": \"\"}}, \"scene\": {\"xaxis\": {\"backgroundcolor\": \"#E5ECF6\", \"gridcolor\": \"white\", \"gridwidth\": 2, \"linecolor\": \"white\", \"showbackground\": true, \"ticks\": \"\", \"zerolinecolor\": \"white\"}, \"yaxis\": {\"backgroundcolor\": \"#E5ECF6\", \"gridcolor\": \"white\", \"gridwidth\": 2, \"linecolor\": \"white\", \"showbackground\": true, \"ticks\": \"\", \"zerolinecolor\": \"white\"}, \"zaxis\": {\"backgroundcolor\": \"#E5ECF6\", \"gridcolor\": \"white\", \"gridwidth\": 2, \"linecolor\": \"white\", \"showbackground\": true, \"ticks\": \"\", \"zerolinecolor\": \"white\"}}, \"shapedefaults\": {\"line\": {\"color\": \"#2a3f5f\"}}, \"ternary\": {\"aaxis\": {\"gridcolor\": \"white\", \"linecolor\": \"white\", \"ticks\": \"\"}, \"baxis\": {\"gridcolor\": \"white\", \"linecolor\": \"white\", \"ticks\": \"\"}, \"bgcolor\": \"#E5ECF6\", \"caxis\": {\"gridcolor\": \"white\", \"linecolor\": \"white\", \"ticks\": \"\"}}, \"title\": {\"x\": 0.05}, \"xaxis\": {\"automargin\": true, \"gridcolor\": \"white\", \"linecolor\": \"white\", \"ticks\": \"\", \"title\": {\"standoff\": 15}, \"zerolinecolor\": \"white\", \"zerolinewidth\": 2}, \"yaxis\": {\"automargin\": true, \"gridcolor\": \"white\", \"linecolor\": \"white\", \"ticks\": \"\", \"title\": {\"standoff\": 15}, \"zerolinecolor\": \"white\", \"zerolinewidth\": 2}}}},                        {\"responsive\": true}                    ).then(function(){\n",
       "                            \n",
       "var gd = document.getElementById('0c50e3cf-5c69-498f-a961-c0bbd491a32a');\n",
       "var x = new MutationObserver(function (mutations, observer) {{\n",
       "        var display = window.getComputedStyle(gd).display;\n",
       "        if (!display || display === 'none') {{\n",
       "            console.log([gd, 'removed!']);\n",
       "            Plotly.purge(gd);\n",
       "            observer.disconnect();\n",
       "        }}\n",
       "}});\n",
       "\n",
       "// Listen for the removal of the full notebook cells\n",
       "var notebookContainer = gd.closest('#notebook-container');\n",
       "if (notebookContainer) {{\n",
       "    x.observe(notebookContainer, {childList: true});\n",
       "}}\n",
       "\n",
       "// Listen for the clearing of the current output cell\n",
       "var outputEl = gd.closest('.output');\n",
       "if (outputEl) {{\n",
       "    x.observe(outputEl, {childList: true});\n",
       "}}\n",
       "\n",
       "                        })                };                });            </script>        </div>"
      ]
     },
     "metadata": {},
     "output_type": "display_data"
    }
   ],
   "source": [
    "fig = go.Figure()\n",
    "for i in range(1, len(priorities)):\n",
    "    expr = cxns_with_nas['priority'] == priorities[i][0]\n",
    "    fig.add_trace(go.Scatter(\n",
    "        x=cxns_with_nas[expr]['date_hour'],\n",
    "        y=cxns_with_nas[expr]['n'],\n",
    "        name=priorities[i][0],\n",
    "        connectgaps=False)\n",
    "    )\n",
    "fig.show()"
   ]
  },
  {
   "cell_type": "code",
   "execution_count": 209,
   "id": "bound-knitting",
   "metadata": {},
   "outputs": [
    {
     "data": {
      "application/vnd.plotly.v1+json": {
       "config": {
        "plotlyServerURL": "https://plot.ly"
       },
       "data": [
        {
         "connectgaps": false,
         "name": "(empty)",
         "type": "scatter",
         "x": [
          "2012-04-05 17:00:00",
          "2012-04-05 18:00:00",
          "2012-04-05 19:00:00",
          "2012-04-05 20:00:00",
          "2012-04-05 21:00:00",
          "2012-04-05 22:00:00",
          "2012-04-05 23:00:00",
          "2012-04-06 00:00:00",
          "2012-04-06 01:00:00",
          "2012-04-06 02:00:00",
          "2012-04-06 03:00:00",
          "2012-04-06 04:00:00",
          "2012-04-06 05:00:00",
          "2012-04-06 06:00:00",
          "2012-04-06 07:00:00",
          "2012-04-06 08:00:00",
          "2012-04-06 09:00:00",
          "2012-04-06 10:00:00",
          "2012-04-06 11:00:00",
          "2012-04-06 12:00:00",
          "2012-04-06 13:00:00",
          "2012-04-06 14:00:00",
          "2012-04-06 15:00:00",
          "2012-04-06 16:00:00",
          "2012-04-06 17:00:00",
          "2012-04-06 18:00:00",
          "2012-04-06 19:00:00",
          "2012-04-06 20:00:00",
          "2012-04-06 21:00:00",
          "2012-04-06 22:00:00",
          "2012-04-06 23:00:00",
          "2012-04-07 00:00:00",
          "2012-04-07 01:00:00",
          "2012-04-07 02:00:00",
          "2012-04-07 03:00:00",
          "2012-04-07 04:00:00",
          "2012-04-07 05:00:00",
          "2012-04-07 06:00:00",
          "2012-04-07 07:00:00",
          "2012-04-07 08:00:00"
         ],
         "y": [
          1,
          196,
          237,
          241,
          210,
          209,
          226,
          108,
          6,
          6,
          6,
          6,
          6,
          6,
          6,
          6,
          6,
          6,
          6,
          6,
          6,
          6,
          6,
          6,
          100,
          224,
          237,
          242,
          243,
          247,
          237,
          14,
          17,
          11,
          18,
          23,
          19,
          19,
          15,
          14
         ]
        },
        {
         "connectgaps": false,
         "name": "21",
         "type": "scatter",
         "x": [
          "2012-04-05 20:00:00",
          "2012-04-05 21:00:00",
          "2012-04-05 22:00:00",
          "2012-04-05 23:00:00",
          "2012-04-06 00:00:00",
          "2012-04-06 18:00:00"
         ],
         "y": [
          462,
          231,
          9,
          45,
          171,
          907
         ]
        },
        {
         "connectgaps": false,
         "name": "53",
         "type": "scatter",
         "x": [
          "2012-04-05 17:00:00",
          "2012-04-05 18:00:00",
          "2012-04-05 19:00:00",
          "2012-04-05 20:00:00",
          "2012-04-05 21:00:00",
          "2012-04-05 22:00:00",
          "2012-04-05 23:00:00",
          "2012-04-06 00:00:00",
          "2012-04-06 01:00:00",
          "2012-04-06 03:00:00",
          "2012-04-06 04:00:00",
          "2012-04-06 06:00:00",
          "2012-04-06 09:00:00",
          "2012-04-06 11:00:00",
          "2012-04-06 14:00:00",
          "2012-04-06 16:00:00",
          "2012-04-06 17:00:00",
          "2012-04-06 18:00:00",
          "2012-04-06 19:00:00",
          "2012-04-06 21:00:00",
          "2012-04-06 22:00:00",
          "2012-04-07 01:00:00",
          "2012-04-07 02:00:00",
          "2012-04-07 04:00:00",
          "2012-04-07 06:00:00",
          "2012-04-07 07:00:00"
         ],
         "y": [
          22,
          54,
          8,
          32,
          41,
          79,
          50,
          46,
          44,
          12,
          24,
          38,
          8,
          24,
          24,
          20,
          14,
          50,
          12,
          34,
          18,
          8,
          26,
          28,
          10,
          26
         ]
        },
        {
         "connectgaps": false,
         "name": "22",
         "type": "scatter",
         "x": [
          "2012-04-05 20:00:00",
          "2012-04-05 21:00:00",
          "2012-04-05 22:00:00",
          "2012-04-05 23:00:00",
          "2012-04-06 00:00:00",
          "2012-04-06 01:00:00",
          "2012-04-06 03:00:00"
         ],
         "y": [
          190,
          157,
          60,
          95,
          24,
          8,
          4
         ]
        },
        {
         "connectgaps": false,
         "name": "137",
         "type": "scatter",
         "x": [
          "2012-04-06 17:00:00",
          "2012-04-06 18:00:00",
          "2012-04-06 19:00:00",
          "2012-04-06 20:00:00",
          "2012-04-06 21:00:00",
          "2012-04-06 22:00:00",
          "2012-04-06 23:00:00",
          "2012-04-07 00:00:00",
          "2012-04-07 01:00:00",
          "2012-04-07 02:00:00",
          "2012-04-07 03:00:00",
          "2012-04-07 04:00:00",
          "2012-04-07 05:00:00",
          "2012-04-07 06:00:00",
          "2012-04-07 07:00:00",
          "2012-04-07 08:00:00"
         ],
         "y": [
          5,
          14,
          7,
          8,
          4,
          12,
          4,
          10,
          10,
          8,
          8,
          11,
          12,
          8,
          5,
          4
         ]
        },
        {
         "connectgaps": false,
         "name": "113",
         "type": "scatter",
         "x": [
          "2012-04-06 10:00:00",
          "2012-04-06 15:00:00",
          "2012-04-07 00:00:00"
         ],
         "y": [
          23,
          25,
          14
         ]
        },
        {
         "connectgaps": false,
         "name": "OTHER",
         "type": "scatter",
         "x": [
          "2012-04-05 17:00:00",
          "2012-04-05 18:00:00",
          "2012-04-05 19:00:00",
          "2012-04-05 20:00:00",
          "2012-04-05 21:00:00",
          "2012-04-05 22:00:00",
          "2012-04-05 23:00:00",
          "2012-04-06 00:00:00",
          "2012-04-06 01:00:00",
          "2012-04-06 02:00:00",
          "2012-04-06 03:00:00",
          "2012-04-06 04:00:00",
          "2012-04-06 05:00:00",
          "2012-04-06 06:00:00",
          "2012-04-06 07:00:00",
          "2012-04-06 08:00:00",
          "2012-04-06 09:00:00",
          "2012-04-06 10:00:00",
          "2012-04-06 11:00:00",
          "2012-04-06 12:00:00",
          "2012-04-06 13:00:00",
          "2012-04-06 14:00:00",
          "2012-04-06 15:00:00",
          "2012-04-06 16:00:00",
          "2012-04-06 17:00:00",
          "2012-04-06 18:00:00",
          "2012-04-06 19:00:00",
          "2012-04-06 20:00:00",
          "2012-04-06 21:00:00",
          "2012-04-06 22:00:00",
          "2012-04-06 23:00:00",
          "2012-04-07 00:00:00",
          "2012-04-07 01:00:00",
          "2012-04-07 02:00:00",
          "2012-04-07 03:00:00",
          "2012-04-07 04:00:00",
          "2012-04-07 05:00:00",
          "2012-04-07 06:00:00",
          "2012-04-07 07:00:00",
          "2012-04-07 08:00:00"
         ],
         "y": [
          2,
          433,
          672,
          680,
          966,
          1054,
          1595,
          970,
          878,
          850,
          891,
          999,
          989,
          843,
          850,
          1027,
          1028,
          1037,
          810,
          946,
          1011,
          1357,
          1444,
          1346,
          537,
          1352,
          1533,
          1483,
          2139,
          1904,
          2043,
          1089,
          1064,
          1115,
          1050,
          1114,
          1103,
          1014,
          1058,
          1134
         ]
        }
       ],
       "layout": {
        "template": {
         "data": {
          "bar": [
           {
            "error_x": {
             "color": "#2a3f5f"
            },
            "error_y": {
             "color": "#2a3f5f"
            },
            "marker": {
             "line": {
              "color": "#E5ECF6",
              "width": 0.5
             }
            },
            "type": "bar"
           }
          ],
          "barpolar": [
           {
            "marker": {
             "line": {
              "color": "#E5ECF6",
              "width": 0.5
             }
            },
            "type": "barpolar"
           }
          ],
          "carpet": [
           {
            "aaxis": {
             "endlinecolor": "#2a3f5f",
             "gridcolor": "white",
             "linecolor": "white",
             "minorgridcolor": "white",
             "startlinecolor": "#2a3f5f"
            },
            "baxis": {
             "endlinecolor": "#2a3f5f",
             "gridcolor": "white",
             "linecolor": "white",
             "minorgridcolor": "white",
             "startlinecolor": "#2a3f5f"
            },
            "type": "carpet"
           }
          ],
          "choropleth": [
           {
            "colorbar": {
             "outlinewidth": 0,
             "ticks": ""
            },
            "type": "choropleth"
           }
          ],
          "contour": [
           {
            "colorbar": {
             "outlinewidth": 0,
             "ticks": ""
            },
            "colorscale": [
             [
              0,
              "#0d0887"
             ],
             [
              0.1111111111111111,
              "#46039f"
             ],
             [
              0.2222222222222222,
              "#7201a8"
             ],
             [
              0.3333333333333333,
              "#9c179e"
             ],
             [
              0.4444444444444444,
              "#bd3786"
             ],
             [
              0.5555555555555556,
              "#d8576b"
             ],
             [
              0.6666666666666666,
              "#ed7953"
             ],
             [
              0.7777777777777778,
              "#fb9f3a"
             ],
             [
              0.8888888888888888,
              "#fdca26"
             ],
             [
              1,
              "#f0f921"
             ]
            ],
            "type": "contour"
           }
          ],
          "contourcarpet": [
           {
            "colorbar": {
             "outlinewidth": 0,
             "ticks": ""
            },
            "type": "contourcarpet"
           }
          ],
          "heatmap": [
           {
            "colorbar": {
             "outlinewidth": 0,
             "ticks": ""
            },
            "colorscale": [
             [
              0,
              "#0d0887"
             ],
             [
              0.1111111111111111,
              "#46039f"
             ],
             [
              0.2222222222222222,
              "#7201a8"
             ],
             [
              0.3333333333333333,
              "#9c179e"
             ],
             [
              0.4444444444444444,
              "#bd3786"
             ],
             [
              0.5555555555555556,
              "#d8576b"
             ],
             [
              0.6666666666666666,
              "#ed7953"
             ],
             [
              0.7777777777777778,
              "#fb9f3a"
             ],
             [
              0.8888888888888888,
              "#fdca26"
             ],
             [
              1,
              "#f0f921"
             ]
            ],
            "type": "heatmap"
           }
          ],
          "heatmapgl": [
           {
            "colorbar": {
             "outlinewidth": 0,
             "ticks": ""
            },
            "colorscale": [
             [
              0,
              "#0d0887"
             ],
             [
              0.1111111111111111,
              "#46039f"
             ],
             [
              0.2222222222222222,
              "#7201a8"
             ],
             [
              0.3333333333333333,
              "#9c179e"
             ],
             [
              0.4444444444444444,
              "#bd3786"
             ],
             [
              0.5555555555555556,
              "#d8576b"
             ],
             [
              0.6666666666666666,
              "#ed7953"
             ],
             [
              0.7777777777777778,
              "#fb9f3a"
             ],
             [
              0.8888888888888888,
              "#fdca26"
             ],
             [
              1,
              "#f0f921"
             ]
            ],
            "type": "heatmapgl"
           }
          ],
          "histogram": [
           {
            "marker": {
             "colorbar": {
              "outlinewidth": 0,
              "ticks": ""
             }
            },
            "type": "histogram"
           }
          ],
          "histogram2d": [
           {
            "colorbar": {
             "outlinewidth": 0,
             "ticks": ""
            },
            "colorscale": [
             [
              0,
              "#0d0887"
             ],
             [
              0.1111111111111111,
              "#46039f"
             ],
             [
              0.2222222222222222,
              "#7201a8"
             ],
             [
              0.3333333333333333,
              "#9c179e"
             ],
             [
              0.4444444444444444,
              "#bd3786"
             ],
             [
              0.5555555555555556,
              "#d8576b"
             ],
             [
              0.6666666666666666,
              "#ed7953"
             ],
             [
              0.7777777777777778,
              "#fb9f3a"
             ],
             [
              0.8888888888888888,
              "#fdca26"
             ],
             [
              1,
              "#f0f921"
             ]
            ],
            "type": "histogram2d"
           }
          ],
          "histogram2dcontour": [
           {
            "colorbar": {
             "outlinewidth": 0,
             "ticks": ""
            },
            "colorscale": [
             [
              0,
              "#0d0887"
             ],
             [
              0.1111111111111111,
              "#46039f"
             ],
             [
              0.2222222222222222,
              "#7201a8"
             ],
             [
              0.3333333333333333,
              "#9c179e"
             ],
             [
              0.4444444444444444,
              "#bd3786"
             ],
             [
              0.5555555555555556,
              "#d8576b"
             ],
             [
              0.6666666666666666,
              "#ed7953"
             ],
             [
              0.7777777777777778,
              "#fb9f3a"
             ],
             [
              0.8888888888888888,
              "#fdca26"
             ],
             [
              1,
              "#f0f921"
             ]
            ],
            "type": "histogram2dcontour"
           }
          ],
          "mesh3d": [
           {
            "colorbar": {
             "outlinewidth": 0,
             "ticks": ""
            },
            "type": "mesh3d"
           }
          ],
          "parcoords": [
           {
            "line": {
             "colorbar": {
              "outlinewidth": 0,
              "ticks": ""
             }
            },
            "type": "parcoords"
           }
          ],
          "pie": [
           {
            "automargin": true,
            "type": "pie"
           }
          ],
          "scatter": [
           {
            "marker": {
             "colorbar": {
              "outlinewidth": 0,
              "ticks": ""
             }
            },
            "type": "scatter"
           }
          ],
          "scatter3d": [
           {
            "line": {
             "colorbar": {
              "outlinewidth": 0,
              "ticks": ""
             }
            },
            "marker": {
             "colorbar": {
              "outlinewidth": 0,
              "ticks": ""
             }
            },
            "type": "scatter3d"
           }
          ],
          "scattercarpet": [
           {
            "marker": {
             "colorbar": {
              "outlinewidth": 0,
              "ticks": ""
             }
            },
            "type": "scattercarpet"
           }
          ],
          "scattergeo": [
           {
            "marker": {
             "colorbar": {
              "outlinewidth": 0,
              "ticks": ""
             }
            },
            "type": "scattergeo"
           }
          ],
          "scattergl": [
           {
            "marker": {
             "colorbar": {
              "outlinewidth": 0,
              "ticks": ""
             }
            },
            "type": "scattergl"
           }
          ],
          "scattermapbox": [
           {
            "marker": {
             "colorbar": {
              "outlinewidth": 0,
              "ticks": ""
             }
            },
            "type": "scattermapbox"
           }
          ],
          "scatterpolar": [
           {
            "marker": {
             "colorbar": {
              "outlinewidth": 0,
              "ticks": ""
             }
            },
            "type": "scatterpolar"
           }
          ],
          "scatterpolargl": [
           {
            "marker": {
             "colorbar": {
              "outlinewidth": 0,
              "ticks": ""
             }
            },
            "type": "scatterpolargl"
           }
          ],
          "scatterternary": [
           {
            "marker": {
             "colorbar": {
              "outlinewidth": 0,
              "ticks": ""
             }
            },
            "type": "scatterternary"
           }
          ],
          "surface": [
           {
            "colorbar": {
             "outlinewidth": 0,
             "ticks": ""
            },
            "colorscale": [
             [
              0,
              "#0d0887"
             ],
             [
              0.1111111111111111,
              "#46039f"
             ],
             [
              0.2222222222222222,
              "#7201a8"
             ],
             [
              0.3333333333333333,
              "#9c179e"
             ],
             [
              0.4444444444444444,
              "#bd3786"
             ],
             [
              0.5555555555555556,
              "#d8576b"
             ],
             [
              0.6666666666666666,
              "#ed7953"
             ],
             [
              0.7777777777777778,
              "#fb9f3a"
             ],
             [
              0.8888888888888888,
              "#fdca26"
             ],
             [
              1,
              "#f0f921"
             ]
            ],
            "type": "surface"
           }
          ],
          "table": [
           {
            "cells": {
             "fill": {
              "color": "#EBF0F8"
             },
             "line": {
              "color": "white"
             }
            },
            "header": {
             "fill": {
              "color": "#C8D4E3"
             },
             "line": {
              "color": "white"
             }
            },
            "type": "table"
           }
          ]
         },
         "layout": {
          "annotationdefaults": {
           "arrowcolor": "#2a3f5f",
           "arrowhead": 0,
           "arrowwidth": 1
          },
          "autotypenumbers": "strict",
          "coloraxis": {
           "colorbar": {
            "outlinewidth": 0,
            "ticks": ""
           }
          },
          "colorscale": {
           "diverging": [
            [
             0,
             "#8e0152"
            ],
            [
             0.1,
             "#c51b7d"
            ],
            [
             0.2,
             "#de77ae"
            ],
            [
             0.3,
             "#f1b6da"
            ],
            [
             0.4,
             "#fde0ef"
            ],
            [
             0.5,
             "#f7f7f7"
            ],
            [
             0.6,
             "#e6f5d0"
            ],
            [
             0.7,
             "#b8e186"
            ],
            [
             0.8,
             "#7fbc41"
            ],
            [
             0.9,
             "#4d9221"
            ],
            [
             1,
             "#276419"
            ]
           ],
           "sequential": [
            [
             0,
             "#0d0887"
            ],
            [
             0.1111111111111111,
             "#46039f"
            ],
            [
             0.2222222222222222,
             "#7201a8"
            ],
            [
             0.3333333333333333,
             "#9c179e"
            ],
            [
             0.4444444444444444,
             "#bd3786"
            ],
            [
             0.5555555555555556,
             "#d8576b"
            ],
            [
             0.6666666666666666,
             "#ed7953"
            ],
            [
             0.7777777777777778,
             "#fb9f3a"
            ],
            [
             0.8888888888888888,
             "#fdca26"
            ],
            [
             1,
             "#f0f921"
            ]
           ],
           "sequentialminus": [
            [
             0,
             "#0d0887"
            ],
            [
             0.1111111111111111,
             "#46039f"
            ],
            [
             0.2222222222222222,
             "#7201a8"
            ],
            [
             0.3333333333333333,
             "#9c179e"
            ],
            [
             0.4444444444444444,
             "#bd3786"
            ],
            [
             0.5555555555555556,
             "#d8576b"
            ],
            [
             0.6666666666666666,
             "#ed7953"
            ],
            [
             0.7777777777777778,
             "#fb9f3a"
            ],
            [
             0.8888888888888888,
             "#fdca26"
            ],
            [
             1,
             "#f0f921"
            ]
           ]
          },
          "colorway": [
           "#636efa",
           "#EF553B",
           "#00cc96",
           "#ab63fa",
           "#FFA15A",
           "#19d3f3",
           "#FF6692",
           "#B6E880",
           "#FF97FF",
           "#FECB52"
          ],
          "font": {
           "color": "#2a3f5f"
          },
          "geo": {
           "bgcolor": "white",
           "lakecolor": "white",
           "landcolor": "#E5ECF6",
           "showlakes": true,
           "showland": true,
           "subunitcolor": "white"
          },
          "hoverlabel": {
           "align": "left"
          },
          "hovermode": "closest",
          "mapbox": {
           "style": "light"
          },
          "paper_bgcolor": "white",
          "plot_bgcolor": "#E5ECF6",
          "polar": {
           "angularaxis": {
            "gridcolor": "white",
            "linecolor": "white",
            "ticks": ""
           },
           "bgcolor": "#E5ECF6",
           "radialaxis": {
            "gridcolor": "white",
            "linecolor": "white",
            "ticks": ""
           }
          },
          "scene": {
           "xaxis": {
            "backgroundcolor": "#E5ECF6",
            "gridcolor": "white",
            "gridwidth": 2,
            "linecolor": "white",
            "showbackground": true,
            "ticks": "",
            "zerolinecolor": "white"
           },
           "yaxis": {
            "backgroundcolor": "#E5ECF6",
            "gridcolor": "white",
            "gridwidth": 2,
            "linecolor": "white",
            "showbackground": true,
            "ticks": "",
            "zerolinecolor": "white"
           },
           "zaxis": {
            "backgroundcolor": "#E5ECF6",
            "gridcolor": "white",
            "gridwidth": 2,
            "linecolor": "white",
            "showbackground": true,
            "ticks": "",
            "zerolinecolor": "white"
           }
          },
          "shapedefaults": {
           "line": {
            "color": "#2a3f5f"
           }
          },
          "ternary": {
           "aaxis": {
            "gridcolor": "white",
            "linecolor": "white",
            "ticks": ""
           },
           "baxis": {
            "gridcolor": "white",
            "linecolor": "white",
            "ticks": ""
           },
           "bgcolor": "#E5ECF6",
           "caxis": {
            "gridcolor": "white",
            "linecolor": "white",
            "ticks": ""
           }
          },
          "title": {
           "x": 0.05
          },
          "xaxis": {
           "automargin": true,
           "gridcolor": "white",
           "linecolor": "white",
           "ticks": "",
           "title": {
            "standoff": 15
           },
           "zerolinecolor": "white",
           "zerolinewidth": 2
          },
          "yaxis": {
           "automargin": true,
           "gridcolor": "white",
           "linecolor": "white",
           "ticks": "",
           "title": {
            "standoff": 15
           },
           "zerolinecolor": "white",
           "zerolinewidth": 2
          }
         }
        }
       }
      },
      "text/html": [
       "<div>                            <div id=\"844352a3-eed6-47c1-9406-1f03716049f3\" class=\"plotly-graph-div\" style=\"height:525px; width:100%;\"></div>            <script type=\"text/javascript\">                require([\"plotly\"], function(Plotly) {                    window.PLOTLYENV=window.PLOTLYENV || {};                                    if (document.getElementById(\"844352a3-eed6-47c1-9406-1f03716049f3\")) {                    Plotly.newPlot(                        \"844352a3-eed6-47c1-9406-1f03716049f3\",                        [{\"connectgaps\": false, \"name\": \"(empty)\", \"type\": \"scatter\", \"x\": [\"2012-04-05 17:00:00\", \"2012-04-05 18:00:00\", \"2012-04-05 19:00:00\", \"2012-04-05 20:00:00\", \"2012-04-05 21:00:00\", \"2012-04-05 22:00:00\", \"2012-04-05 23:00:00\", \"2012-04-06 00:00:00\", \"2012-04-06 01:00:00\", \"2012-04-06 02:00:00\", \"2012-04-06 03:00:00\", \"2012-04-06 04:00:00\", \"2012-04-06 05:00:00\", \"2012-04-06 06:00:00\", \"2012-04-06 07:00:00\", \"2012-04-06 08:00:00\", \"2012-04-06 09:00:00\", \"2012-04-06 10:00:00\", \"2012-04-06 11:00:00\", \"2012-04-06 12:00:00\", \"2012-04-06 13:00:00\", \"2012-04-06 14:00:00\", \"2012-04-06 15:00:00\", \"2012-04-06 16:00:00\", \"2012-04-06 17:00:00\", \"2012-04-06 18:00:00\", \"2012-04-06 19:00:00\", \"2012-04-06 20:00:00\", \"2012-04-06 21:00:00\", \"2012-04-06 22:00:00\", \"2012-04-06 23:00:00\", \"2012-04-07 00:00:00\", \"2012-04-07 01:00:00\", \"2012-04-07 02:00:00\", \"2012-04-07 03:00:00\", \"2012-04-07 04:00:00\", \"2012-04-07 05:00:00\", \"2012-04-07 06:00:00\", \"2012-04-07 07:00:00\", \"2012-04-07 08:00:00\"], \"y\": [1, 196, 237, 241, 210, 209, 226, 108, 6, 6, 6, 6, 6, 6, 6, 6, 6, 6, 6, 6, 6, 6, 6, 6, 100, 224, 237, 242, 243, 247, 237, 14, 17, 11, 18, 23, 19, 19, 15, 14]}, {\"connectgaps\": false, \"name\": \"21\", \"type\": \"scatter\", \"x\": [\"2012-04-05 20:00:00\", \"2012-04-05 21:00:00\", \"2012-04-05 22:00:00\", \"2012-04-05 23:00:00\", \"2012-04-06 00:00:00\", \"2012-04-06 18:00:00\"], \"y\": [462, 231, 9, 45, 171, 907]}, {\"connectgaps\": false, \"name\": \"53\", \"type\": \"scatter\", \"x\": [\"2012-04-05 17:00:00\", \"2012-04-05 18:00:00\", \"2012-04-05 19:00:00\", \"2012-04-05 20:00:00\", \"2012-04-05 21:00:00\", \"2012-04-05 22:00:00\", \"2012-04-05 23:00:00\", \"2012-04-06 00:00:00\", \"2012-04-06 01:00:00\", \"2012-04-06 03:00:00\", \"2012-04-06 04:00:00\", \"2012-04-06 06:00:00\", \"2012-04-06 09:00:00\", \"2012-04-06 11:00:00\", \"2012-04-06 14:00:00\", \"2012-04-06 16:00:00\", \"2012-04-06 17:00:00\", \"2012-04-06 18:00:00\", \"2012-04-06 19:00:00\", \"2012-04-06 21:00:00\", \"2012-04-06 22:00:00\", \"2012-04-07 01:00:00\", \"2012-04-07 02:00:00\", \"2012-04-07 04:00:00\", \"2012-04-07 06:00:00\", \"2012-04-07 07:00:00\"], \"y\": [22, 54, 8, 32, 41, 79, 50, 46, 44, 12, 24, 38, 8, 24, 24, 20, 14, 50, 12, 34, 18, 8, 26, 28, 10, 26]}, {\"connectgaps\": false, \"name\": \"22\", \"type\": \"scatter\", \"x\": [\"2012-04-05 20:00:00\", \"2012-04-05 21:00:00\", \"2012-04-05 22:00:00\", \"2012-04-05 23:00:00\", \"2012-04-06 00:00:00\", \"2012-04-06 01:00:00\", \"2012-04-06 03:00:00\"], \"y\": [190, 157, 60, 95, 24, 8, 4]}, {\"connectgaps\": false, \"name\": \"137\", \"type\": \"scatter\", \"x\": [\"2012-04-06 17:00:00\", \"2012-04-06 18:00:00\", \"2012-04-06 19:00:00\", \"2012-04-06 20:00:00\", \"2012-04-06 21:00:00\", \"2012-04-06 22:00:00\", \"2012-04-06 23:00:00\", \"2012-04-07 00:00:00\", \"2012-04-07 01:00:00\", \"2012-04-07 02:00:00\", \"2012-04-07 03:00:00\", \"2012-04-07 04:00:00\", \"2012-04-07 05:00:00\", \"2012-04-07 06:00:00\", \"2012-04-07 07:00:00\", \"2012-04-07 08:00:00\"], \"y\": [5, 14, 7, 8, 4, 12, 4, 10, 10, 8, 8, 11, 12, 8, 5, 4]}, {\"connectgaps\": false, \"name\": \"113\", \"type\": \"scatter\", \"x\": [\"2012-04-06 10:00:00\", \"2012-04-06 15:00:00\", \"2012-04-07 00:00:00\"], \"y\": [23, 25, 14]}, {\"connectgaps\": false, \"name\": \"OTHER\", \"type\": \"scatter\", \"x\": [\"2012-04-05 17:00:00\", \"2012-04-05 18:00:00\", \"2012-04-05 19:00:00\", \"2012-04-05 20:00:00\", \"2012-04-05 21:00:00\", \"2012-04-05 22:00:00\", \"2012-04-05 23:00:00\", \"2012-04-06 00:00:00\", \"2012-04-06 01:00:00\", \"2012-04-06 02:00:00\", \"2012-04-06 03:00:00\", \"2012-04-06 04:00:00\", \"2012-04-06 05:00:00\", \"2012-04-06 06:00:00\", \"2012-04-06 07:00:00\", \"2012-04-06 08:00:00\", \"2012-04-06 09:00:00\", \"2012-04-06 10:00:00\", \"2012-04-06 11:00:00\", \"2012-04-06 12:00:00\", \"2012-04-06 13:00:00\", \"2012-04-06 14:00:00\", \"2012-04-06 15:00:00\", \"2012-04-06 16:00:00\", \"2012-04-06 17:00:00\", \"2012-04-06 18:00:00\", \"2012-04-06 19:00:00\", \"2012-04-06 20:00:00\", \"2012-04-06 21:00:00\", \"2012-04-06 22:00:00\", \"2012-04-06 23:00:00\", \"2012-04-07 00:00:00\", \"2012-04-07 01:00:00\", \"2012-04-07 02:00:00\", \"2012-04-07 03:00:00\", \"2012-04-07 04:00:00\", \"2012-04-07 05:00:00\", \"2012-04-07 06:00:00\", \"2012-04-07 07:00:00\", \"2012-04-07 08:00:00\"], \"y\": [2, 433, 672, 680, 966, 1054, 1595, 970, 878, 850, 891, 999, 989, 843, 850, 1027, 1028, 1037, 810, 946, 1011, 1357, 1444, 1346, 537, 1352, 1533, 1483, 2139, 1904, 2043, 1089, 1064, 1115, 1050, 1114, 1103, 1014, 1058, 1134]}],                        {\"template\": {\"data\": {\"bar\": [{\"error_x\": {\"color\": \"#2a3f5f\"}, \"error_y\": {\"color\": \"#2a3f5f\"}, \"marker\": {\"line\": {\"color\": \"#E5ECF6\", \"width\": 0.5}}, \"type\": \"bar\"}], \"barpolar\": [{\"marker\": {\"line\": {\"color\": \"#E5ECF6\", \"width\": 0.5}}, \"type\": \"barpolar\"}], \"carpet\": [{\"aaxis\": {\"endlinecolor\": \"#2a3f5f\", \"gridcolor\": \"white\", \"linecolor\": \"white\", \"minorgridcolor\": \"white\", \"startlinecolor\": \"#2a3f5f\"}, \"baxis\": {\"endlinecolor\": \"#2a3f5f\", \"gridcolor\": \"white\", \"linecolor\": \"white\", \"minorgridcolor\": \"white\", \"startlinecolor\": \"#2a3f5f\"}, \"type\": \"carpet\"}], \"choropleth\": [{\"colorbar\": {\"outlinewidth\": 0, \"ticks\": \"\"}, \"type\": \"choropleth\"}], \"contour\": [{\"colorbar\": {\"outlinewidth\": 0, \"ticks\": \"\"}, \"colorscale\": [[0.0, \"#0d0887\"], [0.1111111111111111, \"#46039f\"], [0.2222222222222222, \"#7201a8\"], [0.3333333333333333, \"#9c179e\"], [0.4444444444444444, \"#bd3786\"], [0.5555555555555556, \"#d8576b\"], [0.6666666666666666, \"#ed7953\"], [0.7777777777777778, \"#fb9f3a\"], [0.8888888888888888, \"#fdca26\"], [1.0, \"#f0f921\"]], \"type\": \"contour\"}], \"contourcarpet\": [{\"colorbar\": {\"outlinewidth\": 0, \"ticks\": \"\"}, \"type\": \"contourcarpet\"}], \"heatmap\": [{\"colorbar\": {\"outlinewidth\": 0, \"ticks\": \"\"}, \"colorscale\": [[0.0, \"#0d0887\"], [0.1111111111111111, \"#46039f\"], [0.2222222222222222, \"#7201a8\"], [0.3333333333333333, \"#9c179e\"], [0.4444444444444444, \"#bd3786\"], [0.5555555555555556, \"#d8576b\"], [0.6666666666666666, \"#ed7953\"], [0.7777777777777778, \"#fb9f3a\"], [0.8888888888888888, \"#fdca26\"], [1.0, \"#f0f921\"]], \"type\": \"heatmap\"}], \"heatmapgl\": [{\"colorbar\": {\"outlinewidth\": 0, \"ticks\": \"\"}, \"colorscale\": [[0.0, \"#0d0887\"], [0.1111111111111111, \"#46039f\"], [0.2222222222222222, \"#7201a8\"], [0.3333333333333333, \"#9c179e\"], [0.4444444444444444, \"#bd3786\"], [0.5555555555555556, \"#d8576b\"], [0.6666666666666666, \"#ed7953\"], [0.7777777777777778, \"#fb9f3a\"], [0.8888888888888888, \"#fdca26\"], [1.0, \"#f0f921\"]], \"type\": \"heatmapgl\"}], \"histogram\": [{\"marker\": {\"colorbar\": {\"outlinewidth\": 0, \"ticks\": \"\"}}, \"type\": \"histogram\"}], \"histogram2d\": [{\"colorbar\": {\"outlinewidth\": 0, \"ticks\": \"\"}, \"colorscale\": [[0.0, \"#0d0887\"], [0.1111111111111111, \"#46039f\"], [0.2222222222222222, \"#7201a8\"], [0.3333333333333333, \"#9c179e\"], [0.4444444444444444, \"#bd3786\"], [0.5555555555555556, \"#d8576b\"], [0.6666666666666666, \"#ed7953\"], [0.7777777777777778, \"#fb9f3a\"], [0.8888888888888888, \"#fdca26\"], [1.0, \"#f0f921\"]], \"type\": \"histogram2d\"}], \"histogram2dcontour\": [{\"colorbar\": {\"outlinewidth\": 0, \"ticks\": \"\"}, \"colorscale\": [[0.0, \"#0d0887\"], [0.1111111111111111, \"#46039f\"], [0.2222222222222222, \"#7201a8\"], [0.3333333333333333, \"#9c179e\"], [0.4444444444444444, \"#bd3786\"], [0.5555555555555556, \"#d8576b\"], [0.6666666666666666, \"#ed7953\"], [0.7777777777777778, \"#fb9f3a\"], [0.8888888888888888, \"#fdca26\"], [1.0, \"#f0f921\"]], \"type\": \"histogram2dcontour\"}], \"mesh3d\": [{\"colorbar\": {\"outlinewidth\": 0, \"ticks\": \"\"}, \"type\": \"mesh3d\"}], \"parcoords\": [{\"line\": {\"colorbar\": {\"outlinewidth\": 0, \"ticks\": \"\"}}, \"type\": \"parcoords\"}], \"pie\": [{\"automargin\": true, \"type\": \"pie\"}], \"scatter\": [{\"marker\": {\"colorbar\": {\"outlinewidth\": 0, \"ticks\": \"\"}}, \"type\": \"scatter\"}], \"scatter3d\": [{\"line\": {\"colorbar\": {\"outlinewidth\": 0, \"ticks\": \"\"}}, \"marker\": {\"colorbar\": {\"outlinewidth\": 0, \"ticks\": \"\"}}, \"type\": \"scatter3d\"}], \"scattercarpet\": [{\"marker\": {\"colorbar\": {\"outlinewidth\": 0, \"ticks\": \"\"}}, \"type\": \"scattercarpet\"}], \"scattergeo\": [{\"marker\": {\"colorbar\": {\"outlinewidth\": 0, \"ticks\": \"\"}}, \"type\": \"scattergeo\"}], \"scattergl\": [{\"marker\": {\"colorbar\": {\"outlinewidth\": 0, \"ticks\": \"\"}}, \"type\": \"scattergl\"}], \"scattermapbox\": [{\"marker\": {\"colorbar\": {\"outlinewidth\": 0, \"ticks\": \"\"}}, \"type\": \"scattermapbox\"}], \"scatterpolar\": [{\"marker\": {\"colorbar\": {\"outlinewidth\": 0, \"ticks\": \"\"}}, \"type\": \"scatterpolar\"}], \"scatterpolargl\": [{\"marker\": {\"colorbar\": {\"outlinewidth\": 0, \"ticks\": \"\"}}, \"type\": \"scatterpolargl\"}], \"scatterternary\": [{\"marker\": {\"colorbar\": {\"outlinewidth\": 0, \"ticks\": \"\"}}, \"type\": \"scatterternary\"}], \"surface\": [{\"colorbar\": {\"outlinewidth\": 0, \"ticks\": \"\"}, \"colorscale\": [[0.0, \"#0d0887\"], [0.1111111111111111, \"#46039f\"], [0.2222222222222222, \"#7201a8\"], [0.3333333333333333, \"#9c179e\"], [0.4444444444444444, \"#bd3786\"], [0.5555555555555556, \"#d8576b\"], [0.6666666666666666, \"#ed7953\"], [0.7777777777777778, \"#fb9f3a\"], [0.8888888888888888, \"#fdca26\"], [1.0, \"#f0f921\"]], \"type\": \"surface\"}], \"table\": [{\"cells\": {\"fill\": {\"color\": \"#EBF0F8\"}, \"line\": {\"color\": \"white\"}}, \"header\": {\"fill\": {\"color\": \"#C8D4E3\"}, \"line\": {\"color\": \"white\"}}, \"type\": \"table\"}]}, \"layout\": {\"annotationdefaults\": {\"arrowcolor\": \"#2a3f5f\", \"arrowhead\": 0, \"arrowwidth\": 1}, \"autotypenumbers\": \"strict\", \"coloraxis\": {\"colorbar\": {\"outlinewidth\": 0, \"ticks\": \"\"}}, \"colorscale\": {\"diverging\": [[0, \"#8e0152\"], [0.1, \"#c51b7d\"], [0.2, \"#de77ae\"], [0.3, \"#f1b6da\"], [0.4, \"#fde0ef\"], [0.5, \"#f7f7f7\"], [0.6, \"#e6f5d0\"], [0.7, \"#b8e186\"], [0.8, \"#7fbc41\"], [0.9, \"#4d9221\"], [1, \"#276419\"]], \"sequential\": [[0.0, \"#0d0887\"], [0.1111111111111111, \"#46039f\"], [0.2222222222222222, \"#7201a8\"], [0.3333333333333333, \"#9c179e\"], [0.4444444444444444, \"#bd3786\"], [0.5555555555555556, \"#d8576b\"], [0.6666666666666666, \"#ed7953\"], [0.7777777777777778, \"#fb9f3a\"], [0.8888888888888888, \"#fdca26\"], [1.0, \"#f0f921\"]], \"sequentialminus\": [[0.0, \"#0d0887\"], [0.1111111111111111, \"#46039f\"], [0.2222222222222222, \"#7201a8\"], [0.3333333333333333, \"#9c179e\"], [0.4444444444444444, \"#bd3786\"], [0.5555555555555556, \"#d8576b\"], [0.6666666666666666, \"#ed7953\"], [0.7777777777777778, \"#fb9f3a\"], [0.8888888888888888, \"#fdca26\"], [1.0, \"#f0f921\"]]}, \"colorway\": [\"#636efa\", \"#EF553B\", \"#00cc96\", \"#ab63fa\", \"#FFA15A\", \"#19d3f3\", \"#FF6692\", \"#B6E880\", \"#FF97FF\", \"#FECB52\"], \"font\": {\"color\": \"#2a3f5f\"}, \"geo\": {\"bgcolor\": \"white\", \"lakecolor\": \"white\", \"landcolor\": \"#E5ECF6\", \"showlakes\": true, \"showland\": true, \"subunitcolor\": \"white\"}, \"hoverlabel\": {\"align\": \"left\"}, \"hovermode\": \"closest\", \"mapbox\": {\"style\": \"light\"}, \"paper_bgcolor\": \"white\", \"plot_bgcolor\": \"#E5ECF6\", \"polar\": {\"angularaxis\": {\"gridcolor\": \"white\", \"linecolor\": \"white\", \"ticks\": \"\"}, \"bgcolor\": \"#E5ECF6\", \"radialaxis\": {\"gridcolor\": \"white\", \"linecolor\": \"white\", \"ticks\": \"\"}}, \"scene\": {\"xaxis\": {\"backgroundcolor\": \"#E5ECF6\", \"gridcolor\": \"white\", \"gridwidth\": 2, \"linecolor\": \"white\", \"showbackground\": true, \"ticks\": \"\", \"zerolinecolor\": \"white\"}, \"yaxis\": {\"backgroundcolor\": \"#E5ECF6\", \"gridcolor\": \"white\", \"gridwidth\": 2, \"linecolor\": \"white\", \"showbackground\": true, \"ticks\": \"\", \"zerolinecolor\": \"white\"}, \"zaxis\": {\"backgroundcolor\": \"#E5ECF6\", \"gridcolor\": \"white\", \"gridwidth\": 2, \"linecolor\": \"white\", \"showbackground\": true, \"ticks\": \"\", \"zerolinecolor\": \"white\"}}, \"shapedefaults\": {\"line\": {\"color\": \"#2a3f5f\"}}, \"ternary\": {\"aaxis\": {\"gridcolor\": \"white\", \"linecolor\": \"white\", \"ticks\": \"\"}, \"baxis\": {\"gridcolor\": \"white\", \"linecolor\": \"white\", \"ticks\": \"\"}, \"bgcolor\": \"#E5ECF6\", \"caxis\": {\"gridcolor\": \"white\", \"linecolor\": \"white\", \"ticks\": \"\"}}, \"title\": {\"x\": 0.05}, \"xaxis\": {\"automargin\": true, \"gridcolor\": \"white\", \"linecolor\": \"white\", \"ticks\": \"\", \"title\": {\"standoff\": 15}, \"zerolinecolor\": \"white\", \"zerolinewidth\": 2}, \"yaxis\": {\"automargin\": true, \"gridcolor\": \"white\", \"linecolor\": \"white\", \"ticks\": \"\", \"title\": {\"standoff\": 15}, \"zerolinecolor\": \"white\", \"zerolinewidth\": 2}}}},                        {\"responsive\": true}                    ).then(function(){\n",
       "                            \n",
       "var gd = document.getElementById('844352a3-eed6-47c1-9406-1f03716049f3');\n",
       "var x = new MutationObserver(function (mutations, observer) {{\n",
       "        var display = window.getComputedStyle(gd).display;\n",
       "        if (!display || display === 'none') {{\n",
       "            console.log([gd, 'removed!']);\n",
       "            Plotly.purge(gd);\n",
       "            observer.disconnect();\n",
       "        }}\n",
       "}});\n",
       "\n",
       "// Listen for the removal of the full notebook cells\n",
       "var notebookContainer = gd.closest('#notebook-container');\n",
       "if (notebookContainer) {{\n",
       "    x.observe(notebookContainer, {childList: true});\n",
       "}}\n",
       "\n",
       "// Listen for the clearing of the current output cell\n",
       "var outputEl = gd.closest('.output');\n",
       "if (outputEl) {{\n",
       "    x.observe(outputEl, {childList: true});\n",
       "}}\n",
       "\n",
       "                        })                };                });            </script>        </div>"
      ]
     },
     "metadata": {},
     "output_type": "display_data"
    }
   ],
   "source": [
    "fig = go.Figure()\n",
    "for i in range(2, len(ports)):\n",
    "    expr = ports_per_hour['port_classification'] == ports[i]\n",
    "    fig.add_trace(go.Scatter(\n",
    "        x=ports_per_hour[expr]['date_hour'],\n",
    "        y=ports_per_hour[expr]['ct'],\n",
    "        name=ports[i],\n",
    "        connectgaps=False)\n",
    "    )\n",
    "fig.show()"
   ]
  },
  {
   "cell_type": "code",
   "execution_count": 205,
   "id": "accessible-killing",
   "metadata": {},
   "outputs": [
    {
     "name": "stdout",
     "output_type": "stream",
     "text": [
      "('2012-04-05 20:25:35', 'Critical', 'Deny', 'ASA-2-106001', 'TCP', '10.32.5.56', '10.32.0.1', '(empty)', '(empty)', '6667', '1688', '1688_tcp', 'inbound', 0, 0)\n"
     ]
    }
   ],
   "source": [
    "cur.execute(\"SELECT * \\\n",
    "         FROM data \\\n",
    "         WHERE `Syslog priority` = 'Critical';\")\n",
    "print(cur.fetchone())"
   ]
  },
  {
   "cell_type": "code",
   "execution_count": 33,
   "id": "statutory-president",
   "metadata": {},
   "outputs": [],
   "source": [
    "cur.close()\n",
    "conn.close()"
   ]
  }
 ],
 "metadata": {
  "kernelspec": {
   "display_name": "Python 3",
   "language": "python",
   "name": "python3"
  },
  "language_info": {
   "codemirror_mode": {
    "name": "ipython",
    "version": 3
   },
   "file_extension": ".py",
   "mimetype": "text/x-python",
   "name": "python",
   "nbconvert_exporter": "python",
   "pygments_lexer": "ipython3",
   "version": "3.8.3"
  }
 },
 "nbformat": 4,
 "nbformat_minor": 5
}
